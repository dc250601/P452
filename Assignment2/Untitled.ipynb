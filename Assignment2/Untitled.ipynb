{
 "cells": [
  {
   "cell_type": "code",
   "execution_count": 1,
   "id": "142e2a7e",
   "metadata": {},
   "outputs": [
    {
     "name": "stderr",
     "output_type": "stream",
     "text": [
      "C:\\Users\\cdipt\\anaconda3\\lib\\site-packages\\numpy\\_distributor_init.py:30: UserWarning: loaded more than 1 DLL from .libs:\n",
      "C:\\Users\\cdipt\\anaconda3\\lib\\site-packages\\numpy\\.libs\\libopenblas.FB5AE2TYXYH2IJRDKGDGQ3XBKLKTF43H.gfortran-win_amd64.dll\n",
      "C:\\Users\\cdipt\\anaconda3\\lib\\site-packages\\numpy\\.libs\\libopenblas.WCDJNK7YVMPZQ2ME2ZZHJJRJ3JIKNDB7.gfortran-win_amd64.dll\n",
      "C:\\Users\\cdipt\\anaconda3\\lib\\site-packages\\numpy\\.libs\\libopenblas64__v0.3.21-gcc_10_3_0.dll\n",
      "  warnings.warn(\"loaded more than 1 DLL from .libs:\"\n"
     ]
    }
   ],
   "source": [
    "import numpy as np\n",
    "import pandas as pd\n",
    "import matplotlib.pyplot as plt\n",
    "import os\n",
    "import sys\n",
    "from tqdm.auto import tqdm"
   ]
  },
  {
   "cell_type": "code",
   "execution_count": 2,
   "id": "86ba9a9b",
   "metadata": {},
   "outputs": [],
   "source": [
    "#We cannot store the matrix but can certainly store the vectors\n",
    "def m2v(func,src):\n",
    "    \"\"\"\n",
    "    Considering square matrix for simplicity\n",
    "    Function to calculate the matrix product between a matrix and vector\n",
    "    func(x,y): Gives the values of the matrix at the position (x,y)\n",
    "    \"\"\"\n",
    "    n_rows=n_cols=src.shape[0]\n",
    "    dest = []\n",
    "    for i in range(n_rows):\n",
    "        row = np.array(list(func(i,j) for j in range(n_cols)))\n",
    "        dest.append(np.dot(row,src))\n",
    "    return np.array(dest)\n",
    "\n",
    "def delta(x,y):\n",
    "    if x == y:\n",
    "        return 1\n",
    "    else:\n",
    "        return 0\n",
    "    \n",
    "def matrix_gen(x,y):\n",
    "    return 0.5*(delta((x-1),y)+2*delta(x,y)+delta((x+1),y))\n",
    "\n",
    "def inverse(matrix_gen,SHAPE,MAX_CONJ_GRAD_ITERS = 1000,EPS = 1e-6):\n",
    "    mat = []\n",
    "    for index in range(SHAPE):\n",
    "        b = np.zeros((SHAPE))\n",
    "        b[index] = 1\n",
    "        x = np.zeros((SHAPE))\n",
    "        r = b - m2v(matrix_gen,x)\n",
    "        if np.sum(np.abs(r))< EPS:\n",
    "            print(\"Solution Found !!!\")\n",
    "        p = r.copy()\n",
    "        r_dot_old = np.dot(r,r)\n",
    "\n",
    "        for k in range(MAX_CONJ_GRAD_ITERS):\n",
    "            alpha = r_dot_old/(np.dot(p,m2v(matrix_gen,p)))\n",
    "            x = x + alpha*p\n",
    "            r = r - alpha*m2v(matrix_gen,p)\n",
    "            if np.sum(np.abs(r))< EPS:\n",
    "                mat.append(x[:,None])\n",
    "                break\n",
    "\n",
    "            beta = np.dot(r,r)/r_dot_old\n",
    "            p = r + beta*p    \n",
    "            r_dot_old = np.dot(r,r)\n",
    "    return np.concatenate(mat,axis = -1)"
   ]
  },
  {
   "cell_type": "code",
   "execution_count": 180,
   "id": "60e80a71",
   "metadata": {},
   "outputs": [],
   "source": [
    "SHAPE = 3\n",
    "MAX_CONJ_GRAD_ITERS = 1000\n",
    "EPS = 1e-6"
   ]
  },
  {
   "cell_type": "code",
   "execution_count": null,
   "id": "88be7191",
   "metadata": {},
   "outputs": [],
   "source": []
  },
  {
   "cell_type": "code",
   "execution_count": 98,
   "id": "e5c2c152",
   "metadata": {},
   "outputs": [
    {
     "data": {
      "text/plain": [
       "array([1., 0., 0.])"
      ]
     },
     "execution_count": 98,
     "metadata": {},
     "output_type": "execute_result"
    }
   ],
   "source": [
    "b"
   ]
  },
  {
   "cell_type": "code",
   "execution_count": 102,
   "id": "9f4d5f10",
   "metadata": {},
   "outputs": [],
   "source": []
  },
  {
   "cell_type": "code",
   "execution_count": 103,
   "id": "c4d2e14b",
   "metadata": {},
   "outputs": [
    {
     "data": {
      "text/plain": [
       "array([[1. , 0.5, 0. ],\n",
       "       [0.5, 1. , 0.5],\n",
       "       [0. , 0.5, 1. ]])"
      ]
     },
     "execution_count": 103,
     "metadata": {},
     "output_type": "execute_result"
    }
   ],
   "source": []
  },
  {
   "cell_type": "code",
   "execution_count": 151,
   "id": "27e5a313",
   "metadata": {},
   "outputs": [],
   "source": [
    " p =p+1"
   ]
  },
  {
   "cell_type": "code",
   "execution_count": 152,
   "id": "50a85afe",
   "metadata": {},
   "outputs": [
    {
     "data": {
      "text/plain": [
       "array([1., 0., 0.])"
      ]
     },
     "execution_count": 152,
     "metadata": {},
     "output_type": "execute_result"
    }
   ],
   "source": [
    "r"
   ]
  },
  {
   "cell_type": "code",
   "execution_count": 181,
   "id": "fe99bbc1",
   "metadata": {},
   "outputs": [
    {
     "data": {
      "text/plain": [
       "array([[1. , 0.5, 0. ],\n",
       "       [0.5, 1. , 0.5],\n",
       "       [0. , 0.5, 1. ]])"
      ]
     },
     "execution_count": 181,
     "metadata": {},
     "output_type": "execute_result"
    }
   ],
   "source": [
    "A"
   ]
  },
  {
   "cell_type": "code",
   "execution_count": 235,
   "id": "97cb561b",
   "metadata": {},
   "outputs": [],
   "source": [
    "def inverse(matrix_gen,SHAPE,MAX_CONJ_GRAD_ITERS = 1000,EPS = 1e-6):\n",
    "    mat = []\n",
    "    for index in range(SHAPE):\n",
    "        b = np.zeros((SHAPE))\n",
    "        b[index] = 1\n",
    "        x = np.zeros((SHAPE))\n",
    "        r = b - m2v(matrix_gen,x)\n",
    "        if np.sum(np.abs(r))< EPS:\n",
    "            print(\"Solution Found !!!\")\n",
    "        p = r.copy()\n",
    "        r_dot_old = np.dot(r,r)\n",
    "\n",
    "        for k in range(MAX_CONJ_GRAD_ITERS):\n",
    "            alpha = r_dot_old/(np.dot(p,m2v(matrix_gen,p)))\n",
    "            x = x + alpha*p\n",
    "            r = r - alpha*m2v(matrix_gen,p)\n",
    "            if np.sum(np.abs(r))< EPS:\n",
    "                mat.append(x[:,None])\n",
    "                break\n",
    "\n",
    "            beta = np.dot(r,r)/r_dot_old\n",
    "            p = r + beta*p    \n",
    "            r_dot_old = np.dot(r,r)\n",
    "    return np.concatenate(mat,axis = -1)"
   ]
  },
  {
   "cell_type": "code",
   "execution_count": 4,
   "id": "fc5ff556",
   "metadata": {},
   "outputs": [],
   "source": [
    "m_ = inverse(matrix_gen,SHAPE=50)"
   ]
  },
  {
   "cell_type": "code",
   "execution_count": 5,
   "id": "4e502f65",
   "metadata": {},
   "outputs": [
    {
     "data": {
      "text/plain": [
       "array([[ 1.96078431, -1.92156863,  1.88235294, ..., -0.11764706,\n",
       "         0.07843137, -0.03921569],\n",
       "       [-1.92156863,  3.84313725, -3.76470588, ...,  0.23529412,\n",
       "        -0.15686275,  0.07843137],\n",
       "       [ 1.88235294, -3.76470588,  5.64705882, ..., -0.35294118,\n",
       "         0.23529412, -0.11764706],\n",
       "       ...,\n",
       "       [-0.11764706,  0.23529412, -0.35294118, ...,  5.64705882,\n",
       "        -3.76470588,  1.88235294],\n",
       "       [ 0.07843137, -0.15686275,  0.23529412, ..., -3.76470588,\n",
       "         3.84313725, -1.92156863],\n",
       "       [-0.03921569,  0.07843137, -0.11764706, ...,  1.88235294,\n",
       "        -1.92156863,  1.96078431]])"
      ]
     },
     "execution_count": 5,
     "metadata": {},
     "output_type": "execute_result"
    }
   ],
   "source": [
    "m_"
   ]
  },
  {
   "cell_type": "code",
   "execution_count": 6,
   "id": "057a1f2c",
   "metadata": {},
   "outputs": [
    {
     "data": {
      "text/plain": [
       "array([[ 1.96078431, -1.92156863,  1.88235294, ..., -0.11764706,\n",
       "         0.07843137, -0.03921569],\n",
       "       [-1.92156863,  3.84313725, -3.76470588, ...,  0.23529412,\n",
       "        -0.15686275,  0.07843137],\n",
       "       [ 1.88235294, -3.76470588,  5.64705882, ..., -0.35294118,\n",
       "         0.23529412, -0.11764706],\n",
       "       ...,\n",
       "       [-0.11764706,  0.23529412, -0.35294118, ...,  5.64705882,\n",
       "        -3.76470588,  1.88235294],\n",
       "       [ 0.07843137, -0.15686275,  0.23529412, ..., -3.76470588,\n",
       "         3.84313725, -1.92156863],\n",
       "       [-0.03921569,  0.07843137, -0.11764706, ...,  1.88235294,\n",
       "        -1.92156863,  1.96078431]])"
      ]
     },
     "execution_count": 6,
     "metadata": {},
     "output_type": "execute_result"
    }
   ],
   "source": [
    "np.linalg.inv(A)"
   ]
  },
  {
   "cell_type": "code",
   "execution_count": 3,
   "id": "9487dfa0",
   "metadata": {},
   "outputs": [],
   "source": [
    "SHAPE = 50\n",
    "A = np.zeros((SHAPE,SHAPE))\n",
    "for i in range(SHAPE):\n",
    "    for j in range(SHAPE):\n",
    "        A[i,j] = matrix_gen(i,j)"
   ]
  },
  {
   "cell_type": "code",
   "execution_count": 75,
   "id": "fd30f706",
   "metadata": {},
   "outputs": [
    {
     "data": {
      "text/plain": [
       "array([[0.25,  nan,  nan],\n",
       "       [0.25,  nan,  nan]])"
      ]
     },
     "execution_count": 75,
     "metadata": {},
     "output_type": "execute_result"
    }
   ],
   "source": []
  },
  {
   "cell_type": "code",
   "execution_count": 17,
   "id": "c3b0c316",
   "metadata": {},
   "outputs": [],
   "source": [
    "row = np.array(list(matrix_gen(3,j) for j in range(5)))"
   ]
  },
  {
   "cell_type": "code",
   "execution_count": 18,
   "id": "1c9f5eba",
   "metadata": {},
   "outputs": [
    {
     "data": {
      "text/plain": [
       "(5,)"
      ]
     },
     "execution_count": 18,
     "metadata": {},
     "output_type": "execute_result"
    }
   ],
   "source": [
    "row.shape"
   ]
  },
  {
   "cell_type": "code",
   "execution_count": 19,
   "id": "55f3cf11",
   "metadata": {},
   "outputs": [
    {
     "data": {
      "text/plain": [
       "1.5"
      ]
     },
     "execution_count": 19,
     "metadata": {},
     "output_type": "execute_result"
    }
   ],
   "source": [
    "np.dot(row,row)"
   ]
  },
  {
   "cell_type": "code",
   "execution_count": null,
   "id": "407e8444",
   "metadata": {},
   "outputs": [],
   "source": []
  }
 ],
 "metadata": {
  "kernelspec": {
   "display_name": "Python 3 (ipykernel)",
   "language": "python",
   "name": "python3"
  },
  "language_info": {
   "codemirror_mode": {
    "name": "ipython",
    "version": 3
   },
   "file_extension": ".py",
   "mimetype": "text/x-python",
   "name": "python",
   "nbconvert_exporter": "python",
   "pygments_lexer": "ipython3",
   "version": "3.8.8"
  }
 },
 "nbformat": 4,
 "nbformat_minor": 5
}
