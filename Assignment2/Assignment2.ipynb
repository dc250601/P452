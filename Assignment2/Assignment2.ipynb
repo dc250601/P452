{
 "cells": [
  {
   "cell_type": "code",
   "execution_count": 1,
   "id": "142e2a7e",
   "metadata": {},
   "outputs": [
    {
     "name": "stderr",
     "output_type": "stream",
     "text": [
      "C:\\Users\\cdipt\\anaconda3\\lib\\site-packages\\numpy\\_distributor_init.py:30: UserWarning: loaded more than 1 DLL from .libs:\n",
      "C:\\Users\\cdipt\\anaconda3\\lib\\site-packages\\numpy\\.libs\\libopenblas.FB5AE2TYXYH2IJRDKGDGQ3XBKLKTF43H.gfortran-win_amd64.dll\n",
      "C:\\Users\\cdipt\\anaconda3\\lib\\site-packages\\numpy\\.libs\\libopenblas.WCDJNK7YVMPZQ2ME2ZZHJJRJ3JIKNDB7.gfortran-win_amd64.dll\n",
      "C:\\Users\\cdipt\\anaconda3\\lib\\site-packages\\numpy\\.libs\\libopenblas64__v0.3.21-gcc_10_3_0.dll\n",
      "  warnings.warn(\"loaded more than 1 DLL from .libs:\"\n"
     ]
    }
   ],
   "source": [
    "import numpy as np\n",
    "import pandas as pd\n",
    "import matplotlib.pyplot as plt\n",
    "import os\n",
    "import sys\n",
    "from tqdm.auto import tqdm\n",
    "sys.path.append(\"../\")\n",
    "import library"
   ]
  },
  {
   "cell_type": "markdown",
   "id": "ce3946ca",
   "metadata": {},
   "source": [
    "# Question 1"
   ]
  },
  {
   "cell_type": "code",
   "execution_count": 2,
   "id": "8148384f",
   "metadata": {},
   "outputs": [],
   "source": [
    "matrix,vector = library.io.reader(\"./input1.txt\")\n",
    "vector = list(map(lambda x: [x], vector))\n",
    "matrix = library.matrix.matrix(matrix)\n",
    "vector = library.matrix.matrix(vector)"
   ]
  },
  {
   "cell_type": "code",
   "execution_count": 3,
   "id": "b64a5fcc",
   "metadata": {},
   "outputs": [
    {
     "name": "stdout",
     "output_type": "stream",
     "text": [
      " 4.0\t-1.0\t 0.0\t-1.0\t 0.0\t 0.0\t\n",
      "-1.0\t 4.0\t-1.0\t 0.0\t-1.0\t 0.0\t\n",
      " 0.0\t-1.0\t 4.0\t 0.0\t 0.0\t-1.0\t\n",
      "-1.0\t 0.0\t 0.0\t 4.0\t-1.0\t 0.0\t\n",
      " 0.0\t-1.0\t 0.0\t-1.0\t 4.0\t-1.0\t\n",
      " 0.0\t 0.0\t-1.0\t 0.0\t-1.0\t 4.0\t\n",
      "\n",
      " 2.0\t\n",
      " 1.0\t\n",
      " 2.0\t\n",
      " 2.0\t\n",
      " 1.0\t\n",
      " 2.0\t\n",
      "\n"
     ]
    }
   ],
   "source": [
    "print(matrix)\n",
    "print(vector)"
   ]
  },
  {
   "cell_type": "code",
   "execution_count": 4,
   "id": "1a3b7560",
   "metadata": {},
   "outputs": [
    {
     "name": "stdout",
     "output_type": "stream",
     "text": [
      "The solution is \n",
      " 0.9999999100460266\t\n",
      " 0.999999923219481\t\n",
      " 0.9999999672318638\t\n",
      " 0.9999999457079743\t\n",
      " 0.9999999536588574\t\n",
      " 0.9999999802226803\t\n",
      "\n"
     ]
    }
   ],
   "source": [
    "# Solving with Gauss Seidel\n",
    "x = library.linear.gauss_seidel(matrix,vector,G=[0,0,0,0,0,0],precision=1e-6 )\n",
    "print(\"The solution is \")\n",
    "print(x)"
   ]
  },
  {
   "cell_type": "code",
   "execution_count": 5,
   "id": "ff91caae",
   "metadata": {},
   "outputs": [
    {
     "name": "stdout",
     "output_type": "stream",
     "text": [
      "The matrix is symmetric: True\n",
      "Solution-\n",
      "[1.0, 1.0, 1.0, 0.9999999999999999, 1.0, 1.0]\n"
     ]
    }
   ],
   "source": [
    "#Checking for symmetric matrix\n",
    "print(\"The matrix is symmetric:\",library.linear.cholesky.is_symmetric(matrix))\n",
    "#solving using LU_decomposition\n",
    "vector = list(map(lambda x: x[0], vector.matrix))\n",
    "x,y = library.linear.lu_solver(matrix,vector)\n",
    "print(\"Solution-\")\n",
    "print(x)"
   ]
  },
  {
   "cell_type": "markdown",
   "id": "a3c67036",
   "metadata": {},
   "source": [
    "# Question 2"
   ]
  },
  {
   "cell_type": "code",
   "execution_count": 6,
   "id": "c20780da",
   "metadata": {},
   "outputs": [],
   "source": [
    "matrix,vector = library.io.reader(\"./input2.txt\")\n",
    "vector = list(map(lambda x: [x], vector))\n",
    "matrix = library.matrix.matrix(matrix)\n",
    "vector = [vector[i][0] for i in range(len(vector))]"
   ]
  },
  {
   "cell_type": "code",
   "execution_count": 7,
   "id": "4daf85d5",
   "metadata": {},
   "outputs": [
    {
     "name": "stdout",
     "output_type": "stream",
     "text": [
      " 0.0\t 4.0\t 2.0\t 0.0\t 1.0\t\n",
      " 4.0\t 0.0\t 4.0\t 10.0\t 1.0\t\n",
      " 2.0\t 5.0\t 1.0\t 3.0\t 13.0\t\n",
      " 11.0\t 3.0\t 0.0\t 1.0\t 2.0\t\n",
      " 3.0\t 2.0\t 7.0\t 1.0\t 0.0\t\n",
      "\n",
      "[20.0, 15.0, 92.0, 51.0, 15.0]\n"
     ]
    }
   ],
   "source": [
    "print(matrix)\n",
    "print(vector)"
   ]
  },
  {
   "cell_type": "code",
   "execution_count": 8,
   "id": "497eb398",
   "metadata": {},
   "outputs": [
    {
     "name": "stdout",
     "output_type": "stream",
     "text": [
      "The solution is \n",
      "[2.674602051644853, 3.7118853908737215, -0.05330739299611409, -0.07442518570923085, 5.259073222497346]\n"
     ]
    }
   ],
   "source": [
    "# Solving with Gauss Jordon\n",
    "X,Y = library.linear.gauss_jordan(matrix,vector)\n",
    "print(\"The solution is \")\n",
    "print(Y)"
   ]
  },
  {
   "cell_type": "code",
   "execution_count": 9,
   "id": "bf885743",
   "metadata": {},
   "outputs": [
    {
     "name": "stdout",
     "output_type": "stream",
     "text": [
      "[2.674602051644853, 3.7118853908737215, -0.05330739299611409, -0.07442518570923085, 5.259073222497346]\n"
     ]
    }
   ],
   "source": [
    "# Solving with LU-decomposition\n",
    "x,y = library.linear.lu_solver(matrix,vector)\n",
    "print(y)"
   ]
  },
  {
   "cell_type": "markdown",
   "id": "2162c819",
   "metadata": {},
   "source": [
    "# Question 3"
   ]
  },
  {
   "cell_type": "code",
   "execution_count": 18,
   "id": "da91448b",
   "metadata": {},
   "outputs": [],
   "source": [
    "matrix,vector = library.io.reader(\"./input3.txt\")\n",
    "vector = list(map(lambda x: [x], vector))\n",
    "matrix = library.matrix.matrix(matrix)\n",
    "vector = [vector[i][0] for i in range(len(vector))]"
   ]
  },
  {
   "cell_type": "code",
   "execution_count": 19,
   "id": "abef6fea",
   "metadata": {},
   "outputs": [
    {
     "name": "stdout",
     "output_type": "stream",
     "text": [
      "The solution is \n",
      "[-0.3333309090909091, 0.3333360606060605, 1.000001212121212, -0.6666590909090907, 3.939393939389468e-06, 0.6666687878787878]\n"
     ]
    }
   ],
   "source": [
    "# Solving with Gauss Jordon\n",
    "X,Y = library.linear.gauss_jordan(matrix,vector)\n",
    "print(\"The solution is \")\n",
    "print(Y)"
   ]
  },
  {
   "cell_type": "code",
   "execution_count": 27,
   "id": "6ec33bc2",
   "metadata": {},
   "outputs": [],
   "source": [
    "# Now solving with conjugate gradient method\n",
    "matrix,vector = library.io.reader(\"./input3.txt\")\n",
    "vector = list(map(lambda x: [x], vector))\n",
    "matrix = np.array(matrix)\n",
    "vector = np.array([vector[i][0] for i in range(len(vector))])"
   ]
  },
  {
   "cell_type": "code",
   "execution_count": 28,
   "id": "6665aa4b",
   "metadata": {},
   "outputs": [
    {
     "name": "stdout",
     "output_type": "stream",
     "text": [
      "[[ 2. -3.  0.  0.  0.  0.]\n",
      " [-1.  4. -1.  0. -1.  0.]\n",
      " [ 0. -1.  4.  0.  0. -1.]\n",
      " [ 0.  0.  0.  2. -3.  0.]\n",
      " [ 0. -1.  0. -1.  4. -1.]\n",
      " [ 0.  0. -1.  0. -1.  4.]]\n",
      "[-1.66667  0.66667  3.      -1.33333 -0.33333  1.66667]\n"
     ]
    }
   ],
   "source": [
    "print(matrix)\n",
    "print(vector)"
   ]
  },
  {
   "cell_type": "code",
   "execution_count": null,
   "id": "e5f5d5b5",
   "metadata": {},
   "outputs": [],
   "source": []
  },
  {
   "cell_type": "code",
   "execution_count": 35,
   "id": "54b248f2",
   "metadata": {},
   "outputs": [],
   "source": [
    "def cong_grad(A,b,x0 = None,MAX_CONJ_GRAD_ITERS = 1000,EPS = 1e-6):\n",
    "    x = x0\n",
    "    if x is None:\n",
    "        x = np.zeros_like(b) # The guess\n",
    "    r = b - np.matmul(A,x)\n",
    "    p = r\n",
    "    rsold = np.dot(r,r)\n",
    "    \n",
    "    for i in range(MAX_CONJ_GRAD_ITERS):\n",
    "        Ap = A@p\n",
    "        alpha = rsold/(np.matmul(p,Ap))\n",
    "        x = x + alpha*p\n",
    "        r = r - alpha*Ap\n",
    "        rsnew = np.dot(r,r)\n",
    "        if np.sqrt(rsnew)<EPS:\n",
    "            break\n",
    "        p = r + (rsnew/rsold)*p\n",
    "        rsold = rsnew\n",
    "    return x"
   ]
  },
  {
   "cell_type": "code",
   "execution_count": 36,
   "id": "51e00177",
   "metadata": {},
   "outputs": [
    {
     "name": "stdout",
     "output_type": "stream",
     "text": [
      "The solution with Conjugate Gradient method\n",
      "[-3.33331398e-01  3.33335887e-01  1.00000120e+00 -6.66659422e-01\n",
      "  3.86831595e-06  6.66668798e-01]\n"
     ]
    }
   ],
   "source": [
    "print(\"The solution with Conjugate Gradient method\")\n",
    "x = cong_grad(A = matrix, b = vector)\n",
    "print(x)"
   ]
  },
  {
   "cell_type": "code",
   "execution_count": 40,
   "id": "8d4d770f",
   "metadata": {},
   "outputs": [
    {
     "data": {
      "text/plain": [
       "[-0.3333309090909091,\n",
       " 0.3333360606060605,\n",
       " 1.000001212121212,\n",
       " -0.6666590909090907,\n",
       " 3.939393939389468e-06,\n",
       " 0.6666687878787878]"
      ]
     },
     "execution_count": 40,
     "metadata": {},
     "output_type": "execute_result"
    }
   ],
   "source": [
    "Y"
   ]
  },
  {
   "cell_type": "code",
   "execution_count": 41,
   "id": "413a6489",
   "metadata": {},
   "outputs": [
    {
     "data": {
      "text/plain": [
       "array([[ 2., -3.,  0.,  0.,  0.,  0.],\n",
       "       [-1.,  4., -1.,  0., -1.,  0.],\n",
       "       [ 0., -1.,  4.,  0.,  0., -1.],\n",
       "       [ 0.,  0.,  0.,  2., -3.,  0.],\n",
       "       [ 0., -1.,  0., -1.,  4., -1.],\n",
       "       [ 0.,  0., -1.,  0., -1.,  4.]])"
      ]
     },
     "execution_count": 41,
     "metadata": {},
     "output_type": "execute_result"
    }
   ],
   "source": [
    "matrix"
   ]
  },
  {
   "cell_type": "code",
   "execution_count": 87,
   "id": "f0c1be77",
   "metadata": {},
   "outputs": [],
   "source": [
    "matrix,vector = library.io.reader(\"./input3.txt\")\n",
    "vector = list(map(lambda x: [x], vector))\n",
    "matrix = np.array(matrix)\n",
    "vector = np.array([vector[i][0] for i in range(len(vector))])"
   ]
  },
  {
   "cell_type": "code",
   "execution_count": 77,
   "id": "b517733b",
   "metadata": {},
   "outputs": [],
   "source": [
    "n = len(vector)\n",
    "Ai = np.zeros((n,n))\n",
    "b = np.zeros(n)"
   ]
  },
  {
   "cell_type": "code",
   "execution_count": 78,
   "id": "3362166a",
   "metadata": {},
   "outputs": [],
   "source": [
    "b[-1] = 1"
   ]
  },
  {
   "cell_type": "code",
   "execution_count": 79,
   "id": "8e6b9171",
   "metadata": {},
   "outputs": [
    {
     "data": {
      "text/plain": [
       "array([0., 0., 0., 0., 0., 1.])"
      ]
     },
     "execution_count": 79,
     "metadata": {},
     "output_type": "execute_result"
    }
   ],
   "source": [
    "b"
   ]
  },
  {
   "cell_type": "code",
   "execution_count": 80,
   "id": "62231950",
   "metadata": {},
   "outputs": [],
   "source": [
    "x0 = np.zeros(n)\n",
    "x = cong_grad(A=matrix, b = b,x0=x0)"
   ]
  },
  {
   "cell_type": "code",
   "execution_count": 75,
   "id": "67238523",
   "metadata": {},
   "outputs": [],
   "source": [
    "Ai[:,0] = x"
   ]
  },
  {
   "cell_type": "code",
   "execution_count": 81,
   "id": "5f0afd65",
   "metadata": {},
   "outputs": [
    {
     "data": {
      "text/plain": [
       "array([0.16883074, 0.11255403, 0.10822525, 0.25974065, 0.1731603 ,\n",
       "       0.32034642])"
      ]
     },
     "execution_count": 81,
     "metadata": {},
     "output_type": "execute_result"
    }
   ],
   "source": [
    "x"
   ]
  },
  {
   "cell_type": "code",
   "execution_count": 90,
   "id": "74f58238",
   "metadata": {},
   "outputs": [
    {
     "data": {
      "application/vnd.jupyter.widget-view+json": {
       "model_id": "69961818bd9540ddbc6ce62d435ed46f",
       "version_major": 2,
       "version_minor": 0
      },
      "text/plain": [
       "  0%|          | 0/6 [00:00<?, ?it/s]"
      ]
     },
     "metadata": {},
     "output_type": "display_data"
    },
    {
     "name": "stdout",
     "output_type": "stream",
     "text": [
      "[[0.95251292 0.87012986 0.25974418 0.19823321 0.41558482 0.16883619]\n",
      " [0.29073184 0.58008669 0.1731594  0.13390185 0.27705643 0.1125541 ]\n",
      " [0.08182903 0.17316016 0.32034277 0.05199374 0.11255425 0.10822198]\n",
      " [0.19823321 0.41558482 0.16883619 0.95251292 0.87012986 0.25974418]\n",
      " [0.13390185 0.27705643 0.1125541  0.29073184 0.58008669 0.1731594 ]\n",
      " [0.05199374 0.11255425 0.10822198 0.08182903 0.17316016 0.32034277]]\n"
     ]
    }
   ],
   "source": [
    "# Now finding the inverse using the conjugate gradient method\n",
    "n = len(vector)\n",
    "Ai = np.zeros((n,n))\n",
    "for i in tqdm(range(n)):\n",
    "    b = np.zeros(n)\n",
    "    b[i] = 1\n",
    "    x0 = np.ones(n)/2\n",
    "    x = cong_grad(A=matrix, b = b,x0=x0)\n",
    "    Ai[:,i] = x\n",
    "print(Ai)"
   ]
  },
  {
   "cell_type": "code",
   "execution_count": 92,
   "id": "30d4d570",
   "metadata": {},
   "outputs": [
    {
     "data": {
      "text/plain": [
       "<matplotlib.image.AxesImage at 0x29411bb4fd0>"
      ]
     },
     "execution_count": 92,
     "metadata": {},
     "output_type": "execute_result"
    },
    {
     "data": {
      "image/png": "[encoded data removed]",
      "text/plain": [
       "<Figure size 640x480 with 1 Axes>"
      ]
     },
     "metadata": {},
     "output_type": "display_data"
    }
   ],
   "source": [
    "# Verifying the inversion\n",
    "plt.imshow(matrix@Ai)"
   ]
  },
  {
   "cell_type": "markdown",
   "id": "7770e290",
   "metadata": {},
   "source": [
    "#Question 4"
   ]
  },
  {
   "cell_type": "code",
   "execution_count": 95,
   "id": "86ba9a9b",
   "metadata": {},
   "outputs": [],
   "source": [
    "#We cannot store the matrix but can certainly store the vectors\n",
    "def m2v(func,src):\n",
    "    \"\"\"\n",
    "    Considering square matrix for simplicity\n",
    "    Function to calculate the matrix product between a matrix and vector\n",
    "    func(x,y): Gives the values of the matrix at the position (x,y)\n",
    "    \"\"\"\n",
    "    n_rows=n_cols=src.shape[0]\n",
    "    dest = []\n",
    "    for i in range(n_rows):\n",
    "        row = np.array(list(func(i,j) for j in range(n_cols)))\n",
    "        dest.append(np.dot(row,src))\n",
    "    return np.array(dest)\n",
    "\n",
    "def delta(x,y):\n",
    "    if x == y:\n",
    "        return 1\n",
    "    else:\n",
    "        return 0\n",
    "    \n",
    "def matrix_gen(x,y):\n",
    "    m = 0.2\n",
    "    return (delta(x+1, y) + delta(x-1, y) - 2*delta(x, y))*0.5 + (m**2)* delta(x, y)\n",
    "\n",
    "def inverse(matrix_gen,SHAPE,MAX_CONJ_GRAD_ITERS = 1000,EPS = 1e-6):\n",
    "    mat = []\n",
    "    residue_axis = []\n",
    "    for index in range(SHAPE):\n",
    "        b = np.zeros((SHAPE))\n",
    "        b[index] = 1\n",
    "        x = np.zeros((SHAPE))\n",
    "        r = b - m2v(matrix_gen,x)\n",
    "        if np.sum(np.abs(r))< EPS:\n",
    "            print(\"Solution Found !!!\")\n",
    "        p = r.copy()\n",
    "        r_dot_old = np.dot(r,r)\n",
    "        res = []\n",
    "        for k in range(MAX_CONJ_GRAD_ITERS):\n",
    "            alpha = r_dot_old/(np.dot(p,m2v(matrix_gen,p)))\n",
    "            x = x + alpha*p\n",
    "            r = r - alpha*m2v(matrix_gen,p)\n",
    "            if np.sum(np.abs(r))< EPS:\n",
    "                mat.append(x[:,None])\n",
    "                break\n",
    "\n",
    "            beta = np.dot(r,r)/r_dot_old\n",
    "            p = r + beta*p    \n",
    "            r_dot_old = np.dot(r,r)\n",
    "            res.append(r_dot_old)\n",
    "        residue_axis.append(res)\n",
    "    return np.concatenate(mat,axis = -1), residue_axis"
   ]
  },
  {
   "cell_type": "code",
   "execution_count": 96,
   "id": "60e80a71",
   "metadata": {},
   "outputs": [],
   "source": [
    "SHAPE = 3\n",
    "MAX_CONJ_GRAD_ITERS = 1000\n",
    "EPS = 1e-6"
   ]
  },
  {
   "cell_type": "code",
   "execution_count": 97,
   "id": "88be7191",
   "metadata": {},
   "outputs": [],
   "source": [
    "m_,res = inverse(matrix_gen,SHAPE=50)"
   ]
  },
  {
   "cell_type": "code",
   "execution_count": 98,
   "id": "e5c2c152",
   "metadata": {},
   "outputs": [
    {
     "data": {
      "text/plain": [
       "<matplotlib.image.AxesImage at 0x29411b54820>"
      ]
     },
     "execution_count": 98,
     "metadata": {},
     "output_type": "execute_result"
    },
    {
     "data": {
      "image/png": "[encoded data removed]",
      "text/plain": [
       "<Figure size 640x480 with 1 Axes>"
      ]
     },
     "metadata": {},
     "output_type": "display_data"
    }
   ],
   "source": [
    "plt.imshow(m_)"
   ]
  },
  {
   "cell_type": "code",
   "execution_count": 102,
   "id": "9f4d5f10",
   "metadata": {},
   "outputs": [
    {
     "data": {
      "text/plain": [
       "Text(0.5, 1.0, 'Residue vs Iterations')"
      ]
     },
     "execution_count": 102,
     "metadata": {},
     "output_type": "execute_result"
    },
    {
     "data": {
      "image/png": "[encoded data removed]",
      "text/plain": [
       "<Figure size 640x480 with 1 Axes>"
      ]
     },
     "metadata": {},
     "output_type": "display_data"
    }
   ],
   "source": [
    "plt.plot(res[0])\n",
    "plt.xlabel('Iterations')\n",
    "plt.ylabel('Residue')\n",
    "plt.title('Residue vs Iterations')"
   ]
  }
 ],
 "metadata": {
  "kernelspec": {
   "display_name": "Python 3 (ipykernel)",
   "language": "python",
   "name": "python3"
  },
  "language_info": {
   "codemirror_mode": {
    "name": "ipython",
    "version": 3
   },
   "file_extension": ".py",
   "mimetype": "text/x-python",
   "name": "python",
   "nbconvert_exporter": "python",
   "pygments_lexer": "ipython3",
   "version": "3.8.8"
  }
 },
 "nbformat": 4,
 "nbformat_minor": 5
}
