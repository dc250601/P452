{
 "cells": [
  {
   "cell_type": "code",
   "execution_count": 8,
   "id": "bf406604",
   "metadata": {},
   "outputs": [],
   "source": [
    "import numpy as np\n",
    "import matplotlib.pyplot as plt\n",
    "from tqdm.auto import tqdm"
   ]
  },
  {
   "cell_type": "code",
   "execution_count": 30,
   "id": "16da7f09",
   "metadata": {},
   "outputs": [],
   "source": [
    "# def p(rho,alpha):\n",
    "#     return (alpha**2)*(rho**2)*np.exp(-2*alpha*rho)\n",
    "# def E(rho,alpha):\n",
    "#     return (-1/rho) + (-alpha/2)*(alpha - (2/rho))\n",
    "\n",
    "\n",
    "# #-------------SHO\n",
    "def p(rho,alpha):\n",
    "    return (np.exp(-2*alpha*(rho**2)))*(alpha/np.pi)\n",
    "def E(rho,alpha):\n",
    "    return alpha + (rho**2)*(0.5-2*alpha**2)\n"
   ]
  },
  {
   "cell_type": "code",
   "execution_count": 31,
   "id": "b1aa8fba",
   "metadata": {},
   "outputs": [
    {
     "data": {
      "application/vnd.jupyter.widget-view+json": {
       "model_id": "71647b56170c4669b1aa5a5e25984da2",
       "version_major": 2,
       "version_minor": 0
      },
      "text/plain": [
       "  0%|          | 0/160 [00:00<?, ?it/s]"
      ]
     },
     "metadata": {},
     "output_type": "display_data"
    },
    {
     "name": "stdout",
     "output_type": "stream",
     "text": [
      "Acceptance Rate 1.0\n",
      "Acceptance Rate 0.9673\n",
      "Acceptance Rate 0.9538\n",
      "Acceptance Rate 0.941\n",
      "Acceptance Rate 0.9402\n",
      "Acceptance Rate 0.9327\n",
      "Acceptance Rate 0.9201\n",
      "Acceptance Rate 0.9106\n",
      "Acceptance Rate 0.9123\n",
      "Acceptance Rate 0.9047\n",
      "Acceptance Rate 0.8989\n",
      "Acceptance Rate 0.8914\n",
      "Acceptance Rate 0.8867\n",
      "Acceptance Rate 0.8825\n",
      "Acceptance Rate 0.8789\n",
      "Acceptance Rate 0.8726\n",
      "Acceptance Rate 0.8703\n",
      "Acceptance Rate 0.8771\n",
      "Acceptance Rate 0.8707\n",
      "Acceptance Rate 0.8718\n",
      "Acceptance Rate 0.8562\n",
      "Acceptance Rate 0.8546\n",
      "Acceptance Rate 0.8546\n",
      "Acceptance Rate 0.846\n",
      "Acceptance Rate 0.8441\n",
      "Acceptance Rate 0.8469\n",
      "Acceptance Rate 0.8392\n",
      "Acceptance Rate 0.8407\n",
      "Acceptance Rate 0.8344\n",
      "Acceptance Rate 0.8267\n",
      "Acceptance Rate 0.8249\n",
      "Acceptance Rate 0.8177\n",
      "Acceptance Rate 0.827\n",
      "Acceptance Rate 0.8176\n",
      "Acceptance Rate 0.8196\n",
      "Acceptance Rate 0.8165\n",
      "Acceptance Rate 0.8109\n",
      "Acceptance Rate 0.813\n",
      "Acceptance Rate 0.8101\n",
      "Acceptance Rate 0.8018\n",
      "Acceptance Rate 0.8035\n",
      "Acceptance Rate 0.7999\n",
      "Acceptance Rate 0.8119\n",
      "Acceptance Rate 0.8\n",
      "Acceptance Rate 0.7933\n",
      "Acceptance Rate 0.7875\n",
      "Acceptance Rate 0.7879\n",
      "Acceptance Rate 0.7842\n",
      "Acceptance Rate 0.7822\n",
      "Acceptance Rate 0.7863\n",
      "Acceptance Rate 0.7758\n",
      "Acceptance Rate 0.7828\n",
      "Acceptance Rate 0.7709\n",
      "Acceptance Rate 0.7698\n",
      "Acceptance Rate 0.7732\n",
      "Acceptance Rate 0.7662\n",
      "Acceptance Rate 0.7767\n",
      "Acceptance Rate 0.775\n",
      "Acceptance Rate 0.7632\n",
      "Acceptance Rate 0.7624\n",
      "Acceptance Rate 0.7579\n",
      "Acceptance Rate 0.7596\n",
      "Acceptance Rate 0.7526\n",
      "Acceptance Rate 0.752\n",
      "Acceptance Rate 0.7533\n",
      "Acceptance Rate 0.7551\n",
      "Acceptance Rate 0.7541\n",
      "Acceptance Rate 0.7496\n",
      "Acceptance Rate 0.7458\n",
      "Acceptance Rate 0.7359\n",
      "Acceptance Rate 0.7356\n",
      "Acceptance Rate 0.739\n",
      "Acceptance Rate 0.7396\n",
      "Acceptance Rate 0.7342\n",
      "Acceptance Rate 0.7351\n",
      "Acceptance Rate 0.737\n",
      "Acceptance Rate 0.7293\n",
      "Acceptance Rate 0.7303\n",
      "Acceptance Rate 0.7324\n",
      "Acceptance Rate 0.7228\n",
      "Acceptance Rate 0.7278\n",
      "Acceptance Rate 0.7212\n",
      "Acceptance Rate 0.7189\n",
      "Acceptance Rate 0.7282\n",
      "Acceptance Rate 0.7149\n",
      "Acceptance Rate 0.7209\n",
      "Acceptance Rate 0.7184\n",
      "Acceptance Rate 0.7162\n",
      "Acceptance Rate 0.7137\n",
      "Acceptance Rate 0.7167\n",
      "Acceptance Rate 0.7123\n",
      "Acceptance Rate 0.7036\n",
      "Acceptance Rate 0.7123\n",
      "Acceptance Rate 0.7077\n",
      "Acceptance Rate 0.7097\n",
      "Acceptance Rate 0.6962\n",
      "Acceptance Rate 0.6943\n",
      "Acceptance Rate 0.7007\n",
      "Acceptance Rate 0.6985\n",
      "Acceptance Rate 0.6973\n",
      "Acceptance Rate 0.6968\n",
      "Acceptance Rate 0.7072\n",
      "Acceptance Rate 0.6919\n",
      "Acceptance Rate 0.6893\n",
      "Acceptance Rate 0.694\n",
      "Acceptance Rate 0.6949\n",
      "Acceptance Rate 0.6725\n",
      "Acceptance Rate 0.6881\n",
      "Acceptance Rate 0.6805\n",
      "Acceptance Rate 0.6941\n",
      "Acceptance Rate 0.6805\n",
      "Acceptance Rate 0.6783\n",
      "Acceptance Rate 0.6808\n",
      "Acceptance Rate 0.6821\n",
      "Acceptance Rate 0.6804\n",
      "Acceptance Rate 0.6788\n",
      "Acceptance Rate 0.6757\n",
      "Acceptance Rate 0.6795\n",
      "Acceptance Rate 0.6789\n",
      "Acceptance Rate 0.6735\n",
      "Acceptance Rate 0.6626\n",
      "Acceptance Rate 0.6755\n",
      "Acceptance Rate 0.6673\n",
      "Acceptance Rate 0.668\n",
      "Acceptance Rate 0.6598\n",
      "Acceptance Rate 0.6719\n",
      "Acceptance Rate 0.6717\n",
      "Acceptance Rate 0.657\n",
      "Acceptance Rate 0.6615\n",
      "Acceptance Rate 0.6637\n",
      "Acceptance Rate 0.6622\n",
      "Acceptance Rate 0.656\n",
      "Acceptance Rate 0.6542\n",
      "Acceptance Rate 0.6547\n",
      "Acceptance Rate 0.6563\n",
      "Acceptance Rate 0.6557\n",
      "Acceptance Rate 0.6633\n",
      "Acceptance Rate 0.6538\n",
      "Acceptance Rate 0.6491\n",
      "Acceptance Rate 0.647\n",
      "Acceptance Rate 0.6497\n",
      "Acceptance Rate 0.6481\n",
      "Acceptance Rate 0.6488\n",
      "Acceptance Rate 0.6426\n",
      "Acceptance Rate 0.6416\n",
      "Acceptance Rate 0.6432\n",
      "Acceptance Rate 0.6431\n",
      "Acceptance Rate 0.6453\n",
      "Acceptance Rate 0.6432\n",
      "Acceptance Rate 0.6405\n",
      "Acceptance Rate 0.6365\n",
      "Acceptance Rate 0.6466\n",
      "Acceptance Rate 0.6315\n",
      "Acceptance Rate 0.6373\n",
      "Acceptance Rate 0.6303\n",
      "Acceptance Rate 0.6326\n",
      "Acceptance Rate 0.6362\n",
      "Acceptance Rate 0.6361\n",
      "Acceptance Rate 0.6233\n",
      "Acceptance Rate 0.6321\n"
     ]
    }
   ],
   "source": [
    "alpha_list = np.arange(0,1.6,0.01)\n",
    "# alpha_list = [1.1]\n",
    "energy_list = []\n",
    "for alpha in tqdm(alpha_list):\n",
    "    rho = 1\n",
    "    step_size = 0.8\n",
    "    rho_list = [rho]\n",
    "\n",
    "    accep = 0\n",
    "    rej = 0 \n",
    "    for i in range(10000):\n",
    "        old_prob = p(rho,alpha)\n",
    "        rho_new = rho + (2*np.random.uniform()-1)*step_size\n",
    "        new_prob = p(rho_new,alpha)\n",
    "        gamma = np.random.uniform()\n",
    "#         print(new_prob/old_prob)\n",
    "        if gamma < min(1,new_prob/old_prob):\n",
    "    #         print(\"Accept !\")\n",
    "            rho = rho_new\n",
    "            rho_list.append(rho)\n",
    "            accep = accep +1\n",
    "        else:\n",
    "    #         print(\"Reject\")\n",
    "            rej = rej + 1\n",
    "#     print(\"Acceptance Rate\",(accep/(accep+rej)))\n",
    "    rho_list = np.array(rho_list)\n",
    "    Energy = E(rho_list,alpha)\n",
    "    av_energy = Energy.mean()\n",
    "    energy_list.append(av_energy)"
   ]
  },
  {
   "cell_type": "code",
   "execution_count": 32,
   "id": "083b23ad",
   "metadata": {},
   "outputs": [
    {
     "data": {
      "image/png": "[encoded data removed]",
      "text/plain": [
       "<Figure size 640x480 with 1 Axes>"
      ]
     },
     "metadata": {},
     "output_type": "display_data"
    }
   ],
   "source": [
    "plt.plot(alpha_list,energy_list)\n",
    "plt.yscale(\"log\")"
   ]
  },
  {
   "cell_type": "code",
   "execution_count": 28,
   "id": "c3ef61b1",
   "metadata": {},
   "outputs": [
    {
     "data": {
      "text/plain": [
       "46"
      ]
     },
     "execution_count": 28,
     "metadata": {},
     "output_type": "execute_result"
    }
   ],
   "source": [
    "np.argmin(energy_list)"
   ]
  },
  {
   "cell_type": "code",
   "execution_count": 33,
   "id": "25d247e1",
   "metadata": {},
   "outputs": [
    {
     "data": {
      "text/plain": [
       "42"
      ]
     },
     "execution_count": 33,
     "metadata": {},
     "output_type": "execute_result"
    }
   ],
   "source": [
    "np.argmin(energy_list)"
   ]
  },
  {
   "cell_type": "code",
   "execution_count": 29,
   "id": "0257fb73",
   "metadata": {},
   "outputs": [
    {
     "data": {
      "text/plain": [
       "0.46"
      ]
     },
     "execution_count": 29,
     "metadata": {},
     "output_type": "execute_result"
    }
   ],
   "source": [
    "alpha_list[46]"
   ]
  },
  {
   "cell_type": "code",
   "execution_count": 34,
   "id": "02293656",
   "metadata": {},
   "outputs": [
    {
     "data": {
      "text/plain": [
       "0.42"
      ]
     },
     "execution_count": 34,
     "metadata": {},
     "output_type": "execute_result"
    }
   ],
   "source": [
    "alpha_list[42]"
   ]
  },
  {
   "cell_type": "code",
   "execution_count": 131,
   "id": "4a7a7b30",
   "metadata": {},
   "outputs": [
    {
     "data": {
      "image/png": "[encoded data removed]",
      "text/plain": [
       "<Figure size 640x480 with 1 Axes>"
      ]
     },
     "metadata": {},
     "output_type": "display_data"
    }
   ],
   "source": [
    "plt.hist(rho_list,bins = 200)\n",
    "plt.show()"
   ]
  },
  {
   "cell_type": "code",
   "execution_count": 101,
   "id": "1001431a",
   "metadata": {},
   "outputs": [],
   "source": [
    "rho_list = np.array(rho_list)"
   ]
  },
  {
   "cell_type": "code",
   "execution_count": 107,
   "id": "4a28e5c6",
   "metadata": {},
   "outputs": [],
   "source": []
  },
  {
   "cell_type": "code",
   "execution_count": 126,
   "id": "bdc55d09",
   "metadata": {},
   "outputs": [
    {
     "data": {
      "image/png": "[encoded data removed]",
      "text/plain": [
       "<Figure size 640x480 with 1 Axes>"
      ]
     },
     "metadata": {},
     "output_type": "display_data"
    }
   ],
   "source": [
    "plt.hist(Energy,bins = 100)\n",
    "plt.show()"
   ]
  },
  {
   "cell_type": "code",
   "execution_count": 109,
   "id": "497eab98",
   "metadata": {},
   "outputs": [
    {
     "data": {
      "text/plain": [
       "-12.233035517100554"
      ]
     },
     "execution_count": 109,
     "metadata": {},
     "output_type": "execute_result"
    }
   ],
   "source": [
    "av_energy"
   ]
  },
  {
   "cell_type": "code",
   "execution_count": null,
   "id": "cf385cd2",
   "metadata": {},
   "outputs": [],
   "source": []
  }
 ],
 "metadata": {
  "kernelspec": {
   "display_name": "Python 3 (ipykernel)",
   "language": "python",
   "name": "python3"
  },
  "language_info": {
   "codemirror_mode": {
    "name": "ipython",
    "version": 3
   },
   "file_extension": ".py",
   "mimetype": "text/x-python",
   "name": "python",
   "nbconvert_exporter": "python",
   "pygments_lexer": "ipython3",
   "version": "3.8.8"
  }
 },
 "nbformat": 4,
 "nbformat_minor": 5
}
