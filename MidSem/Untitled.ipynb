{
 "cells": [
  {
   "cell_type": "code",
   "execution_count": 1,
   "id": "c66f1ef6",
   "metadata": {},
   "outputs": [
    {
     "name": "stderr",
     "output_type": "stream",
     "text": [
      "C:\\Users\\cdipt\\anaconda3\\lib\\site-packages\\numpy\\_distributor_init.py:30: UserWarning: loaded more than 1 DLL from .libs:\n",
      "C:\\Users\\cdipt\\anaconda3\\lib\\site-packages\\numpy\\.libs\\libopenblas.FB5AE2TYXYH2IJRDKGDGQ3XBKLKTF43H.gfortran-win_amd64.dll\n",
      "C:\\Users\\cdipt\\anaconda3\\lib\\site-packages\\numpy\\.libs\\libopenblas.WCDJNK7YVMPZQ2ME2ZZHJJRJ3JIKNDB7.gfortran-win_amd64.dll\n",
      "C:\\Users\\cdipt\\anaconda3\\lib\\site-packages\\numpy\\.libs\\libopenblas64__v0.3.21-gcc_10_3_0.dll\n",
      "  warnings.warn(\"loaded more than 1 DLL from .libs:\"\n"
     ]
    }
   ],
   "source": [
    "import sys\n",
    "import os\n",
    "import matplotlib.pyplot as plt\n",
    "sys.path.append(\"../\")\n",
    "import library as lib\n",
    "import math"
   ]
  },
  {
   "cell_type": "markdown",
   "id": "455cfbf9",
   "metadata": {},
   "source": [
    "# Question 1"
   ]
  },
  {
   "cell_type": "code",
   "execution_count": 2,
   "id": "d85e44f6",
   "metadata": {},
   "outputs": [],
   "source": [
    "guess1 = 1.5\n",
    "guess2 = 2.5\n",
    "#Considering that the fucntion\n",
    "def f(x):\n",
    "    return math.log(x/2) - math.sin((5*x)/2)\n",
    "def f_p(x):\n",
    "    return 1/x - 5*math.cos((5*x)/2)/2"
   ]
  },
  {
   "cell_type": "code",
   "execution_count": 3,
   "id": "6fec0a3b",
   "metadata": {},
   "outputs": [],
   "source": [
    "root_regula,hist_regula,iter_regula = lib.root_finding.RootByRegulaFalsi(guess1=guess2,\n",
    "                                               guess2=guess1,\n",
    "                                               func=f,\n",
    "                                               shift=0.5,\n",
    "                                               eps=1e-6\n",
    "                                              )\n",
    "\n",
    "root_newton, iter_newton = lib.root_finding.RootByNewtonRalphson(guess = guess1,\n",
    "                                                            func = f,\n",
    "                                                            func_p = f_p,\n",
    "                                                            eps = 1e-6)"
   ]
  },
  {
   "cell_type": "code",
   "execution_count": 4,
   "id": "3bdc5aac",
   "metadata": {},
   "outputs": [
    {
     "name": "stdout",
     "output_type": "stream",
     "text": [
      "-----------------------------------------------------------\n",
      "The root found by the regula falsi method is 3.528425236355925\n",
      "The value of f at the root is -1.0248981274774138e-07\n",
      "The number of iterarions required to reach the root is 11\n",
      "-----------------------------------------------------------\n",
      "The root found by the regula falsi method is 1.4019299316146128\n",
      "The value of f at the root is -1.6653345369377348e-16\n",
      "The number of iterarions required to reach the root is 4\n",
      "-----------------------------------------------------------\n"
     ]
    }
   ],
   "source": [
    "print(\"-----------------------------------------------------------\")\n",
    "print(f\"The root found by the regula falsi method is {root_regula}\")\n",
    "print(f\"The value of f at the root is {f(root_regula)}\")\n",
    "print(f\"The number of iterarions required to reach the root is {iter_regula}\")\n",
    "print(\"-----------------------------------------------------------\")\n",
    "print(f\"The root found by the regula falsi method is {root_newton}\")\n",
    "print(f\"The value of f at the root is {f(root_newton)}\")\n",
    "print(f\"The number of iterarions required to reach the root is {iter_newton}\")\n",
    "print(\"-----------------------------------------------------------\")"
   ]
  },
  {
   "cell_type": "code",
   "execution_count": null,
   "id": "2a8574ea",
   "metadata": {},
   "outputs": [],
   "source": []
  }
 ],
 "metadata": {
  "kernelspec": {
   "display_name": "Python 3 (ipykernel)",
   "language": "python",
   "name": "python3"
  },
  "language_info": {
   "codemirror_mode": {
    "name": "ipython",
    "version": 3
   },
   "file_extension": ".py",
   "mimetype": "text/x-python",
   "name": "python",
   "nbconvert_exporter": "python",
   "pygments_lexer": "ipython3",
   "version": "3.8.8"
  }
 },
 "nbformat": 4,
 "nbformat_minor": 5
}
