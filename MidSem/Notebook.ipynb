{
 "cells": [
  {
   "cell_type": "code",
   "execution_count": 2,
   "id": "0d84bd36",
   "metadata": {},
   "outputs": [
    {
     "name": "stderr",
     "output_type": "stream",
     "text": [
      "C:\\Users\\cdipt\\anaconda3\\lib\\site-packages\\numpy\\_distributor_init.py:30: UserWarning: loaded more than 1 DLL from .libs:\n",
      "C:\\Users\\cdipt\\anaconda3\\lib\\site-packages\\numpy\\.libs\\libopenblas.FB5AE2TYXYH2IJRDKGDGQ3XBKLKTF43H.gfortran-win_amd64.dll\n",
      "C:\\Users\\cdipt\\anaconda3\\lib\\site-packages\\numpy\\.libs\\libopenblas.WCDJNK7YVMPZQ2ME2ZZHJJRJ3JIKNDB7.gfortran-win_amd64.dll\n",
      "C:\\Users\\cdipt\\anaconda3\\lib\\site-packages\\numpy\\.libs\\libopenblas64__v0.3.21-gcc_10_3_0.dll\n",
      "  warnings.warn(\"loaded more than 1 DLL from .libs:\"\n"
     ]
    }
   ],
   "source": [
    "import sys\n",
    "import os\n",
    "import matplotlib.pyplot as plt\n",
    "sys.path.append(\"../\")\n",
    "import library as lib\n",
    "import math\n",
    "from tqdm.auto import tqdm"
   ]
  },
  {
   "cell_type": "markdown",
   "id": "b77a2680",
   "metadata": {},
   "source": [
    "# Question 1"
   ]
  },
  {
   "cell_type": "code",
   "execution_count": 3,
   "id": "c52d9c44",
   "metadata": {},
   "outputs": [],
   "source": [
    "guess1 = 1.5\n",
    "guess2 = 2.5\n",
    "#Considering that the fucntion\n",
    "def f(x):\n",
    "    return math.log(x/2) - math.sin((5*x)/2)\n",
    "def f_p(x):\n",
    "    return 1/x - 5*math.cos((5*x)/2)/2"
   ]
  },
  {
   "cell_type": "code",
   "execution_count": 4,
   "id": "65a24078",
   "metadata": {},
   "outputs": [],
   "source": [
    "root_regula,hist_regula,iter_regula = lib.root_finding.RootByRegulaFalsi(guess1=guess2,\n",
    "                                               guess2=guess1,\n",
    "                                               func=f,\n",
    "                                               shift=0.5,\n",
    "                                               eps=1e-6\n",
    "                                              )\n",
    "\n",
    "root_newton, iter_newton = lib.root_finding.RootByNewtonRalphson(guess = guess1,\n",
    "                                                            func = f,\n",
    "                                                            func_p = f_p,\n",
    "                                                            eps = 1e-6)"
   ]
  },
  {
   "cell_type": "code",
   "execution_count": 5,
   "id": "b0c6a81c",
   "metadata": {},
   "outputs": [
    {
     "name": "stdout",
     "output_type": "stream",
     "text": [
      "-----------------------------------------------------------\n",
      "The root found by the regula falsi method is 3.528425236355925\n",
      "The value of f at the root is -1.0248981274774138e-07\n",
      "The number of iterarions required to reach the root is 11\n",
      "-----------------------------------------------------------\n",
      "The root found by the regula falsi method is 1.4019299316146128\n",
      "The value of f at the root is -1.6653345369377348e-16\n",
      "The number of iterarions required to reach the root is 4\n",
      "-----------------------------------------------------------\n"
     ]
    }
   ],
   "source": [
    "print(\"-----------------------------------------------------------\")\n",
    "print(f\"The root found by the regula falsi method is {root_regula}\")\n",
    "print(f\"The value of f at the root is {f(root_regula)}\")\n",
    "print(f\"The number of iterarions required to reach the root is {iter_regula}\")\n",
    "print(\"-----------------------------------------------------------\")\n",
    "print(f\"The root found by the regula falsi method is {root_newton}\")\n",
    "print(f\"The value of f at the root is {f(root_newton)}\")\n",
    "print(f\"The number of iterarions required to reach the root is {iter_newton}\")\n",
    "print(\"-----------------------------------------------------------\")"
   ]
  },
  {
   "cell_type": "markdown",
   "id": "aaf77cc7",
   "metadata": {},
   "source": [
    "### In this case we have found two different roots the reason being the existance of multiple roots in the given interval. Still we can notice that the newton ralphson method has achieved a higher level of convergence in lesser number of steps compared to the regula falsi when we have provided it with the exact derivative of the function."
   ]
  },
  {
   "cell_type": "markdown",
   "id": "3b0b2efd",
   "metadata": {},
   "source": [
    "# Question 2"
   ]
  },
  {
   "cell_type": "code",
   "execution_count": 6,
   "id": "ee13d8a3",
   "metadata": {},
   "outputs": [],
   "source": [
    "L0 =0\n",
    "Ln = 10\n",
    "T0 = 40\n",
    "Tn = 200\n",
    "Ta = 20\n",
    "guess =8\n",
    "def dvdt(x,v,t,w=1,neu=0.15):\n",
    "    return  - 0.01*(Ta-x)\n",
    "def dxdt(v,t):\n",
    "    return v"
   ]
  },
  {
   "cell_type": "code",
   "execution_count": 7,
   "id": "f2aaa566",
   "metadata": {},
   "outputs": [],
   "source": [
    "y,_,x =lib.differential_equation.Solution_Shooting_Runge_Kutta_4(dxdt,dvdt,L0,Ln,T0,Tn,guess)"
   ]
  },
  {
   "cell_type": "code",
   "execution_count": 8,
   "id": "b3494111",
   "metadata": {},
   "outputs": [],
   "source": [
    "#Finding the temperature closest to T =100\n",
    "closest = 1e300\n",
    "index = 0\n",
    "for i in range(len(y)):\n",
    "    if abs(y[i]-100)<closest:\n",
    "        index = i\n",
    "        closest = abs(y[i]-100)"
   ]
  },
  {
   "cell_type": "code",
   "execution_count": 9,
   "id": "eaa68529",
   "metadata": {},
   "outputs": [
    {
     "name": "stdout",
     "output_type": "stream",
     "text": [
      "The value fo x at which T is 100 is 4.42999999999995\n"
     ]
    }
   ],
   "source": [
    "print(\"The value fo x at which T is 100 is\",x[index])"
   ]
  },
  {
   "cell_type": "markdown",
   "id": "0a2452e6",
   "metadata": {},
   "source": [
    "# Question 3"
   ]
  },
  {
   "cell_type": "code",
   "execution_count": 17,
   "id": "a20b4421",
   "metadata": {},
   "outputs": [],
   "source": [
    "import numpy as np # Using numpy for inversion and Tridiagonal matrix\n",
    "from scipy.sparse import diags\n",
    "import pandas as pd\n",
    "#The following code is completely done using numpy since native python is extremly slow and will take \n",
    "#orders of magnitude more time to solve\n",
    "z = 1\n",
    "x_discreetisation = 0.0009\n",
    "t_discreetisation = 1e-8\n",
    "x_range = (0,2)\n",
    "t_range = (0,0.095)\n",
    "X = np.arange(x_range[0],x_range[-1],x_discreetisation)[:,None]\n",
    "V_0 = np.zeros(X.shape)\n",
    "V_0[int(V_0.shape[0]/2)] = 300\n",
    "n = V_0.shape[0]\n",
    "B = diags([-1*np.ones(n-1),2*np.ones(n),-1*np.ones(n-1)],[-1,0,1]).toarray()\n",
    "alpha = t_discreetisation/(x_discreetisation)**2"
   ]
  },
  {
   "cell_type": "code",
   "execution_count": 18,
   "id": "e895de15",
   "metadata": {},
   "outputs": [
    {
     "data": {
      "application/vnd.jupyter.widget-view+json": {
       "model_id": "0d3c473398b04822a5c4a4449b7387f1",
       "version_major": 2,
       "version_minor": 0
      },
      "text/plain": [
       "  0%|          | 0/500 [00:00<?, ?it/s]"
      ]
     },
     "metadata": {},
     "output_type": "display_data"
    }
   ],
   "source": [
    "V = []\n",
    "V.append(V_0)\n",
    "for t in tqdm(range(500)):\n",
    "    V.append(np.matmul(np.matmul(np.linalg.inv(2*z*np.eye(n) + alpha*B),(2*z*np.eye(n) - alpha*B)),V[t]))"
   ]
  },
  {
   "cell_type": "code",
   "execution_count": 19,
   "id": "f132e47d",
   "metadata": {},
   "outputs": [],
   "source": [
    "V_grid = np.concatenate(V,axis = -1)"
   ]
  },
  {
   "cell_type": "code",
   "execution_count": 20,
   "id": "e96c3406",
   "metadata": {},
   "outputs": [
    {
     "data": {
      "text/plain": [
       "0.01234567901234568"
      ]
     },
     "execution_count": 20,
     "metadata": {},
     "output_type": "execute_result"
    }
   ],
   "source": [
    "alpha"
   ]
  },
  {
   "cell_type": "code",
   "execution_count": 21,
   "id": "96fea92c",
   "metadata": {},
   "outputs": [
    {
     "data": {
      "text/plain": [
       "(2223, 501)"
      ]
     },
     "execution_count": 21,
     "metadata": {},
     "output_type": "execute_result"
    }
   ],
   "source": [
    "V_grid.shape"
   ]
  },
  {
   "cell_type": "code",
   "execution_count": 37,
   "id": "4684cb32",
   "metadata": {},
   "outputs": [
    {
     "data": {
      "text/plain": [
       "<matplotlib.colorbar.Colorbar at 0x2d5ac29aa00>"
      ]
     },
     "execution_count": 37,
     "metadata": {},
     "output_type": "execute_result"
    },
    {
     "data": {
      "image/png": "[encoded data removed]",
      "text/plain": [
       "<Figure size 1600x1600 with 2 Axes>"
      ]
     },
     "metadata": {},
     "output_type": "display_data"
    }
   ],
   "source": [
    "plt.figure(figsize=(16,16))\n",
    "plt.imshow(V_grid[1000:-1000,:400], cmap=\"inferno\")\n",
    "plt.xlabel(\"Time evolution -> t\")\n",
    "plt.ylabel(\"Length (x)\")\n",
    "plt.colorbar()"
   ]
  },
  {
   "cell_type": "code",
   "execution_count": 16,
   "id": "7a2c521d",
   "metadata": {},
   "outputs": [
    {
     "data": {
      "text/plain": [
       "(2223, 1)"
      ]
     },
     "execution_count": 16,
     "metadata": {},
     "output_type": "execute_result"
    }
   ],
   "source": [
    "V_0.shape"
   ]
  },
  {
   "cell_type": "code",
   "execution_count": 32,
   "id": "41db9075",
   "metadata": {},
   "outputs": [
    {
     "data": {
      "text/plain": [
       "Text(0, 0.5, 'Temperature T')"
      ]
     },
     "execution_count": 32,
     "metadata": {},
     "output_type": "execute_result"
    },
    {
     "data": {
      "image/png": "[encoded data removed]",
      "text/plain": [
       "<Figure size 640x480 with 1 Axes>"
      ]
     },
     "metadata": {},
     "output_type": "display_data"
    }
   ],
   "source": [
    "for i in range(500):\n",
    "    plt.plot(X[1000:-1000],V_grid[1000:-1000,i])\n",
    "plt.xlabel(\"Length (x)\")\n",
    "plt.ylabel(\"Temperature T\")"
   ]
  },
  {
   "cell_type": "markdown",
   "id": "d651e2bd",
   "metadata": {},
   "source": [
    "# Question 4"
   ]
  },
  {
   "cell_type": "code",
   "execution_count": 113,
   "id": "f13af997",
   "metadata": {},
   "outputs": [
    {
     "name": "stdout",
     "output_type": "stream",
     "text": [
      "Using Simpson method\n",
      "The centre of mass of the rod is  1.5000\n"
     ]
    }
   ],
   "source": [
    "# If we have a beam of mass density lambda, and length of 2m \n",
    "# Using Simpson method to do the computations\n",
    "def mass_density(x):\n",
    "    return x**2\n",
    "def integrand2(x):\n",
    "    return mass_density(x)*x\n",
    "Lower_bound = 0\n",
    "Upper_bound = 2\n",
    "\n",
    "print(\"Using Simpson method\")\n",
    "m = lib.integrate(mass_density, 10, Lower_bound,Upper_bound, mode = \"simpson\")\n",
    "x_cm = lib.integrate(integrand2, 10, Lower_bound,Upper_bound, mode = \"simpson\")/m\n",
    "print(\"The centre of mass of the rod is \",\"{:.4f}\".format(x_cm))\n"
   ]
  },
  {
   "cell_type": "markdown",
   "id": "7ece9163",
   "metadata": {},
   "source": [
    "# Question 5"
   ]
  },
  {
   "cell_type": "code",
   "execution_count": 166,
   "id": "cf63e9ed",
   "metadata": {},
   "outputs": [],
   "source": [
    "matrix,vector = lib.io.reader(\"./inputQ5.txt\")\n",
    "matrix = lib.matrix.matrix(matrix)"
   ]
  },
  {
   "cell_type": "code",
   "execution_count": 167,
   "id": "afe221a6",
   "metadata": {},
   "outputs": [
    {
     "name": "stdout",
     "output_type": "stream",
     "text": [
      " 1.0\t-1.0\t 4.0\t 0.0\t 2.0\t 9.0\t\n",
      " 0.0\t 5.0\t-2.0\t 7.0\t 8.0\t 4.0\t\n",
      " 1.0\t 0.0\t 5.0\t 7.0\t 3.0\t-2.0\t\n",
      " 6.0\t-1.0\t 2.0\t 3.0\t 0.0\t 8.0\t\n",
      "-4.0\t 2.0\t 0.0\t 5.0\t-5.0\t 3.0\t\n",
      " 0.0\t 7.0\t-1.0\t 5.0\t 4.0\t-2.0\t\n",
      "\n",
      "[19.0, 2.0, 13.0, -7.0, -9.0, 2.0]\n"
     ]
    }
   ],
   "source": [
    "print(matrix)\n",
    "print(vector)"
   ]
  },
  {
   "cell_type": "code",
   "execution_count": 169,
   "id": "747e9fbf",
   "metadata": {},
   "outputs": [
    {
     "name": "stdout",
     "output_type": "stream",
     "text": [
      "[-1.7618170439978567, 0.8962280338740136, 4.051931404116157, -1.6171308025395428, 2.041913538501914, 0.15183248715593495]\n"
     ]
    }
   ],
   "source": [
    "x,y = lib.linear.lu_solver(matrix,vector)\n",
    "print(y)"
   ]
  }
 ],
 "metadata": {
  "kernelspec": {
   "display_name": "Python 3 (ipykernel)",
   "language": "python",
   "name": "python3"
  },
  "language_info": {
   "codemirror_mode": {
    "name": "ipython",
    "version": 3
   },
   "file_extension": ".py",
   "mimetype": "text/x-python",
   "name": "python",
   "nbconvert_exporter": "python",
   "pygments_lexer": "ipython3",
   "version": "3.8.8"
  }
 },
 "nbformat": 4,
 "nbformat_minor": 5
}
