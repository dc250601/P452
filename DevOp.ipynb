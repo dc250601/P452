{
 "cells": [
  {
   "cell_type": "code",
   "execution_count": 1,
   "id": "4b87c0dd",
   "metadata": {},
   "outputs": [
    {
     "name": "stderr",
     "output_type": "stream",
     "text": [
      "C:\\Users\\cdipt\\anaconda3\\lib\\site-packages\\numpy\\_distributor_init.py:30: UserWarning: loaded more than 1 DLL from .libs:\n",
      "C:\\Users\\cdipt\\anaconda3\\lib\\site-packages\\numpy\\.libs\\libopenblas.FB5AE2TYXYH2IJRDKGDGQ3XBKLKTF43H.gfortran-win_amd64.dll\n",
      "C:\\Users\\cdipt\\anaconda3\\lib\\site-packages\\numpy\\.libs\\libopenblas.WCDJNK7YVMPZQ2ME2ZZHJJRJ3JIKNDB7.gfortran-win_amd64.dll\n",
      "C:\\Users\\cdipt\\anaconda3\\lib\\site-packages\\numpy\\.libs\\libopenblas64__v0.3.21-gcc_10_3_0.dll\n",
      "  warnings.warn(\"loaded more than 1 DLL from .libs:\"\n"
     ]
    }
   ],
   "source": [
    "import library as lib\n",
    "import numpy as np\n",
    "import matplotlib.pyplot as plt\n",
    "import os\n",
    "import sys\n",
    "import math"
   ]
  },
  {
   "cell_type": "code",
   "execution_count": 3,
   "id": "9a7b8530",
   "metadata": {},
   "outputs": [],
   "source": [
    "def g(x):\n",
    "    return math.exp(-1*x)"
   ]
  },
  {
   "cell_type": "code",
   "execution_count": 55,
   "id": "bc67dcb7",
   "metadata": {},
   "outputs": [],
   "source": [
    "def fixed_point_single_variable(g, guess, eps = 1e-4):\n",
    "    \"\"\"\n",
    "    Function to find root using fixed point method for equation of a single variable\n",
    "\n",
    "    args:\n",
    "    g: The function g(x), such that g(x) = x\n",
    "    guess: The guess values to start working with\n",
    "    eps: The minimum error before the roots are returned\n",
    "    \"\"\"\n",
    "    \n",
    "    del_ = 1e5\n",
    "    while(del_ > eps):\n",
    "        guess_new = g(guess)\n",
    "        del_ = abs(guess - guess_new)\n",
    "        guess = guess_new\n",
    "    return guess\n",
    "\n",
    "def fixed_point_multi_variable(G, X, eps = 1e-4):\n",
    "    \"\"\"\n",
    "    Function to find root using dixed point method for a system of equation\n",
    "    \n",
    "    args:\n",
    "    G: list containing all the functions\n",
    "    X: list containing initial guess values\n",
    "    eps: The minimum error before the roots are returned\n",
    "    \"\"\"\n",
    "    \n",
    "    del_ = 1e5\n",
    "    \n",
    "    while del_ > eps:\n",
    "        X_new = list(G[i](X) for i in range(len(X)))\n",
    "        del_ = sum(list(abs(X_new[i] - X[i]) for i in range(len(X))))/len(X)\n",
    "        X = X_new.copy()\n",
    "    return X"
   ]
  },
  {
   "cell_type": "code",
   "execution_count": 10,
   "id": "a3d15cf8",
   "metadata": {},
   "outputs": [
    {
     "ename": "TypeError",
     "evalue": "'list' object is not callable",
     "output_type": "error",
     "traceback": [
      "\u001b[1;31m---------------------------------------------------------------------------\u001b[0m",
      "\u001b[1;31mTypeError\u001b[0m                                 Traceback (most recent call last)",
      "Cell \u001b[1;32mIn[10], line 1\u001b[0m\n\u001b[1;32m----> 1\u001b[0m \u001b[43mlib\u001b[49m\u001b[38;5;241;43m.\u001b[39;49m\u001b[43mroot_finding\u001b[49m\u001b[38;5;241;43m.\u001b[39;49m\u001b[43mRootByFixedPoint\u001b[49m\u001b[43m(\u001b[49m\u001b[43mG\u001b[49m\u001b[43m,\u001b[49m\u001b[43mX\u001b[49m\u001b[43m)\u001b[49m\n",
      "File \u001b[1;32m~\\Documents\\GitHub\\P452\\library\\root_finding\\fixed_point.py:13\u001b[0m, in \u001b[0;36mfixed_point_single_variable\u001b[1;34m(g, guess, eps)\u001b[0m\n\u001b[0;32m     11\u001b[0m del_ \u001b[38;5;241m=\u001b[39m \u001b[38;5;241m1e5\u001b[39m\n\u001b[0;32m     12\u001b[0m \u001b[38;5;28;01mwhile\u001b[39;00m(del_ \u001b[38;5;241m>\u001b[39m eps):\n\u001b[1;32m---> 13\u001b[0m     guess_new \u001b[38;5;241m=\u001b[39m \u001b[43mg\u001b[49m\u001b[43m(\u001b[49m\u001b[43mguess\u001b[49m\u001b[43m)\u001b[49m\n\u001b[0;32m     14\u001b[0m     del_ \u001b[38;5;241m=\u001b[39m \u001b[38;5;28mabs\u001b[39m(guess \u001b[38;5;241m-\u001b[39m guess_new)\n\u001b[0;32m     15\u001b[0m     guess \u001b[38;5;241m=\u001b[39m guess_new\n",
      "\u001b[1;31mTypeError\u001b[0m: 'list' object is not callable"
     ]
    }
   ],
   "source": [
    "lib.root_finding.RootByFixedPoint(G,X)"
   ]
  },
  {
   "cell_type": "code",
   "execution_count": 8,
   "id": "facf5bfa",
   "metadata": {},
   "outputs": [],
   "source": [
    "def g1(X):\n",
    "    return math.sqrt(10-X[0]*X[1])\n",
    "def g2(X):\n",
    "    return math.sqrt((57-X[0])/(3*X[1]))"
   ]
  },
  {
   "cell_type": "code",
   "execution_count": 9,
   "id": "cc74a6da",
   "metadata": {},
   "outputs": [],
   "source": [
    "X = [1.5,3.5]\n",
    "G = [g1,g2]"
   ]
  },
  {
   "cell_type": "code",
   "execution_count": 54,
   "id": "80cea8b8",
   "metadata": {},
   "outputs": [
    {
     "name": "stdout",
     "output_type": "stream",
     "text": [
      "[1.5, 3.5]\n",
      "[2.179449471770337, 2.29906813420444]\n",
      "[2.23367346972294, 2.819260119112112]\n",
      "[1.9242384123832834, 2.5446532109064903]\n",
      "[2.25908843239464, 2.6859957804327004]\n",
      "[1.9829518408079592, 2.6064099337928717]\n",
      "[2.198093406542423, 2.652568782719639]\n",
      "[2.041912350788765, 2.6242419858347565]\n",
      "[2.1544205433632437, 2.6421242615705802]\n",
      "[2.07551275899569, 2.630471300050203]\n",
      "[2.1308268945585005, 2.6381871116295956]\n",
      "[2.0924817680596526, 2.632999539307737]\n",
      "[2.119079155833754, 2.636512825370498]\n",
      "[2.1007190739527783, 2.6341173771799875]\n",
      "[2.1133999580598877, 2.635755606597133]\n",
      "[2.104660117824611, 2.6346320322386783]\n",
      "[2.1106859161429132, 2.635403558062239]\n",
      "[2.106535265939099, 2.6348731415091935]\n",
      "[2.1093948909901017, 2.6352379672233077]\n",
      "[2.107425561056906, 2.6349869117491007]\n",
      "[2.108781930197987, 2.6351597065095276]\n",
      "[2.1078479138037634, 2.6350407518141252]\n",
      "[2.1084911307616867, 2.635122647526188]\n",
      "[2.108048213210926, 2.6350662605858455]\n",
      "[2.108353214639239, 2.635105085123492]\n",
      "[2.108143193160199, 2.6350783519830827]\n"
     ]
    }
   ],
   "source": [
    "# Extending the fixed point method to system of equations\n",
    "X = []\n",
    "G = []\n",
    "X_new = []\n",
    "\n",
    "X = [1.5,3.5]\n",
    "G = [g1,g2]\n",
    "del_ = 1e5\n",
    "eps = 1e-4\n",
    "while del_ > eps:\n",
    "    print(X)\n",
    "    X_new = list(G[i](X) for i in range(len(X)))\n",
    "    del_ = sum(list(abs(X_new[i] - X[i]) for i in range(len(X))))/len(X)\n",
    "    X = X_new.copy()"
   ]
  },
  {
   "cell_type": "code",
   "execution_count": 40,
   "id": "2be18ca7",
   "metadata": {},
   "outputs": [],
   "source": [
    "X = [1.5,3.5]"
   ]
  },
  {
   "cell_type": "code",
   "execution_count": 45,
   "id": "7438ccc6",
   "metadata": {},
   "outputs": [
    {
     "data": {
      "text/plain": [
       "3.4480268109295333"
      ]
     },
     "execution_count": 45,
     "metadata": {},
     "output_type": "execute_result"
    }
   ],
   "source": [
    "G[1](X)"
   ]
  },
  {
   "cell_type": "code",
   "execution_count": 25,
   "id": "585ec86f",
   "metadata": {},
   "outputs": [
    {
     "data": {
      "text/plain": [
       "-0.5945647757084865"
      ]
     },
     "execution_count": 25,
     "metadata": {},
     "output_type": "execute_result"
    }
   ],
   "source": [
    "del_"
   ]
  },
  {
   "cell_type": "code",
   "execution_count": 32,
   "id": "9fc424b4",
   "metadata": {},
   "outputs": [
    {
     "data": {
      "text/plain": [
       "[<generator object <genexpr> at 0x0000013E0CC61510>]"
      ]
     },
     "execution_count": 32,
     "metadata": {},
     "output_type": "execute_result"
    }
   ],
   "source": [
    "[(G[i](X) for i in range(len(X)))]"
   ]
  },
  {
   "cell_type": "code",
   "execution_count": 44,
   "id": "76e01681",
   "metadata": {},
   "outputs": [
    {
     "data": {
      "text/plain": [
       "5.172040216394301"
      ]
     },
     "execution_count": 44,
     "metadata": {},
     "output_type": "execute_result"
    }
   ],
   "source": [
    "g2(X)"
   ]
  },
  {
   "cell_type": "code",
   "execution_count": null,
   "id": "3d5b4bff",
   "metadata": {},
   "outputs": [],
   "source": []
  }
 ],
 "metadata": {
  "kernelspec": {
   "display_name": "Python 3 (ipykernel)",
   "language": "python",
   "name": "python3"
  },
  "language_info": {
   "codemirror_mode": {
    "name": "ipython",
    "version": 3
   },
   "file_extension": ".py",
   "mimetype": "text/x-python",
   "name": "python",
   "nbconvert_exporter": "python",
   "pygments_lexer": "ipython3",
   "version": "3.8.8"
  }
 },
 "nbformat": 4,
 "nbformat_minor": 5
}
