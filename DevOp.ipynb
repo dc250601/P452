{
 "cells": [
  {
   "cell_type": "code",
   "execution_count": 1,
   "id": "4b87c0dd",
   "metadata": {},
   "outputs": [
    {
     "name": "stderr",
     "output_type": "stream",
     "text": [
      "C:\\Users\\cdipt\\anaconda3\\lib\\site-packages\\numpy\\_distributor_init.py:30: UserWarning: loaded more than 1 DLL from .libs:\n",
      "C:\\Users\\cdipt\\anaconda3\\lib\\site-packages\\numpy\\.libs\\libopenblas.FB5AE2TYXYH2IJRDKGDGQ3XBKLKTF43H.gfortran-win_amd64.dll\n",
      "C:\\Users\\cdipt\\anaconda3\\lib\\site-packages\\numpy\\.libs\\libopenblas.WCDJNK7YVMPZQ2ME2ZZHJJRJ3JIKNDB7.gfortran-win_amd64.dll\n",
      "C:\\Users\\cdipt\\anaconda3\\lib\\site-packages\\numpy\\.libs\\libopenblas64__v0.3.21-gcc_10_3_0.dll\n",
      "  warnings.warn(\"loaded more than 1 DLL from .libs:\"\n"
     ]
    }
   ],
   "source": [
    "import library as lib\n",
    "import numpy as np\n",
    "import matplotlib.pyplot as plt\n",
    "import os\n",
    "import sys\n",
    "import math"
   ]
  },
  {
   "cell_type": "code",
   "execution_count": 3,
   "id": "a6a274f9",
   "metadata": {},
   "outputs": [],
   "source": [
    "def g(x):\n",
    "    return math.exp(-1*x)"
   ]
  },
  {
   "cell_type": "code",
   "execution_count": 55,
   "id": "bc67dcb7",
   "metadata": {},
   "outputs": [],
   "source": [
    "def fixed_point_single_variable(g, guess, eps = 1e-4):\n",
    "    \"\"\"\n",
    "    Function to find root using fixed point method for equation of a single variable\n",
    "\n",
    "    args:\n",
    "    g: The function g(x), such that g(x) = x\n",
    "    guess: The guess values to start working with\n",
    "    eps: The minimum error before the roots are returned\n",
    "    \"\"\"\n",
    "    \n",
    "    del_ = 1e5\n",
    "    while(del_ > eps):\n",
    "        guess_new = g(guess)\n",
    "        del_ = abs(guess - guess_new)\n",
    "        guess = guess_new\n",
    "    return guess\n",
    "\n",
    "def fixed_point_multi_variable(G, X, eps = 1e-4):\n",
    "    \"\"\"\n",
    "    Function to find root using dixed point method for a system of equation\n",
    "    \n",
    "    args:\n",
    "    G: list containing all the functions\n",
    "    X: list containing initial guess values\n",
    "    eps: The minimum error before the roots are returned\n",
    "    \"\"\"\n",
    "    \n",
    "    del_ = 1e5\n",
    "    \n",
    "    while del_ > eps:\n",
    "        X_new = list(G[i](X) for i in range(len(X)))\n",
    "        del_ = sum(list(abs(X_new[i] - X[i]) for i in range(len(X))))/len(X)\n",
    "        X = X_new.copy()\n",
    "    return X"
   ]
  },
  {
   "cell_type": "code",
   "execution_count": 8,
   "id": "657bc80e",
   "metadata": {},
   "outputs": [],
   "source": [
    "def g1(X):\n",
    "    return math.sqrt(10-X[0]*X[1])\n",
    "def g2(X):\n",
    "    return math.sqrt((57-X[0])/(3*X[1]))"
   ]
  },
  {
   "cell_type": "code",
   "execution_count": 9,
   "id": "cdec89b6",
   "metadata": {},
   "outputs": [],
   "source": [
    "X = [1.5,3.5]\n",
    "G = [g1,g2]"
   ]
  },
  {
   "cell_type": "code",
   "execution_count": null,
   "id": "d59b0201",
   "metadata": {},
   "outputs": [],
   "source": []
  },
  {
   "cell_type": "code",
   "execution_count": 2,
   "id": "f1fd0f3a",
   "metadata": {},
   "outputs": [],
   "source": [
    "def newton_raphson_multivariable(F, J, x0, eps = 1e-4):\n",
    "    \"\"\"This function is used to find the root of a given function using Newton-Raphson method.\n",
    "    \n",
    "    Parameters:\n",
    "    - F: The list containing all the functions of the system \n",
    "    - J: The Jacobian matrix of f of type library.matrix.\n",
    "    - x0: The list of initial guess.\n",
    "    - eps: The tolerance.\n",
    "    \n",
    "    \"\"\"\n",
    "    x = x0.copy()\n",
    "    iter = 0\n",
    "    while True:\n",
    "        \n",
    "        J_val = lib.matrix.matrix_init((2,2), scheme=\"zero\")\n",
    "        for row in range(J.num_rows):\n",
    "            for col in range(J.num_cols):\n",
    "                J_val.matrix[row][col] = J.matrix[row][col](x)\n",
    "        \n",
    "        F_val = lib.matrix.matrix(list([F[i](x)] for i in range(len(F))))\n",
    "        J_val_inv = lib.matrix.matrix(np.linalg.inv(np.array(J_val.matrix)).tolist())\n",
    "        x_p = lib.matrix.matmul(J_val_inv,F_val).get_column(0)\n",
    "        x = list(x[i]-x_p[i] for i in range(len(x)))\n",
    "        print(x)\n",
    "        iter += 1\n",
    "        if sum(list(abs(F[i](x)) for i in range(len(x)))) < eps:\n",
    "            break\n",
    "    return x, iter\n",
    "\n",
    "def jacobian(f, x, h=1e-5):\n",
    "    \"\"\"This function is used to find the Jacobian matrix of a system of functions.\n",
    "    \n",
    "    Parameters:\n",
    "    - f: The system of functions.\n",
    "    - x: The point at which the Jacobian matrix is to be evaluated.\n",
    "    - h: The step size.\n",
    "    \n",
    "    Returns:\n",
    "    - J: The Jacobian matrix of f.\n",
    "    \"\"\"\n",
    "    n = len(f(x))\n",
    "    m = len(x)\n",
    "    J = np.zeros((n, m))\n",
    "    for i in range(n):\n",
    "        for j in range(m):\n",
    "            x1 = x.copy()\n",
    "            x2 = x.copy()\n",
    "            x1[j] += h\n",
    "            x2[j] -= h\n",
    "            J[i, j] = (f(x1)[i] - f(x2)[i]) / (2 * h)\n",
    "    return J\n",
    "\n",
    "# Example usage:\n",
    "# f = lambda x: np.array([x[0]**2 + x[1]**2 - 1, x[0] - x[1]])\n",
    "# J = lambda x: np.array([[2*x[0], 2*x[1]], [1, -1]])\n",
    "# x0 = np.array([0.5, 0.5])\n",
    "# tol = 1e-5\n",
    "# root, iter = newton_raphson_multivariable(f, J, x0, tol)\n",
    "# solution should be [0.70710678, 0.70710678]\n",
    "# print(root, iter)"
   ]
  },
  {
   "cell_type": "code",
   "execution_count": 3,
   "id": "6bf8262a",
   "metadata": {},
   "outputs": [],
   "source": [
    "def g1(X):\n",
    "    return X[0]**2 + X[1]**2 - 1\n",
    "def g2(X):\n",
    "    return X[0] - X[1]\n",
    "def gp11(X):\n",
    "    return 2*X[0]\n",
    "def gp12(X):\n",
    "    return 2*X[1]\n",
    "def gp21(X):\n",
    "    return 1\n",
    "def gp22(X):\n",
    "    return -1\n",
    "\n",
    "F = [g1,g2]\n",
    "J = lib.matrix.matrix([[gp11,gp12],[gp21,gp22]])\n",
    "x0 = [0.5, 0.5]"
   ]
  },
  {
   "cell_type": "code",
   "execution_count": 4,
   "id": "0075d509",
   "metadata": {},
   "outputs": [
    {
     "name": "stdout",
     "output_type": "stream",
     "text": [
      "[0.75, 0.75]\n",
      "[0.7083333333333334, 0.7083333333333334]\n",
      "[0.7071078431372549, 0.7071078431372549]\n"
     ]
    }
   ],
   "source": [
    "root, iter = newton_raphson_multivariable(F, J, x0)"
   ]
  },
  {
   "cell_type": "code",
   "execution_count": 26,
   "id": "83dd47e6",
   "metadata": {},
   "outputs": [],
   "source": [
    "def gauss_nodes_and_weights(n):\n",
    "    \"\"\"\n",
    "    This function is used to find the nodes and weights for Gaussian Quadrature.\n",
    "\n",
    "    n: number of intervals.\n",
    "        \n",
    "    \"\"\"\n",
    "    x = []\n",
    "    w = []\n",
    "    if n == 1:\n",
    "        x.append(0.0)\n",
    "        w.append(2.0)\n",
    "        return x, w\n",
    "    for i in range(n):\n",
    "        x0 = math.cos(math.pi * (i + 0.75) / (n + 0.5))\n",
    "        x1 = 0\n",
    "        while abs(x0 - x1) > 1e-10:\n",
    "            p0 = 1.0\n",
    "            p1 = 0.0\n",
    "            for j in range(n):\n",
    "                p2 = p1\n",
    "                p1 = p0\n",
    "                p0 = ((2 * j + 1) * x0 * p1 - j * p2) / (j + 1)\n",
    "            pp = n * (x0 * p0 - p1) / (x0 * x0 - 1)\n",
    "            x1 = x0\n",
    "            x0 = x1 - p0 / pp\n",
    "        x.append(x0)\n",
    "        w.append(2 / ((1 - x0 * x0) * pp * pp))\n",
    "    return x, w\n",
    "\n",
    "def integration_using_Gauss_Quadrature(f, a, b, n):\n",
    "    \"\"\"\n",
    "    Function to calculate the integral of a function using the Gaussian Quadrature Techmique\n",
    "    \n",
    "    f: The function whose integral has to be calculated\n",
    "    a: The lower limit of integration\n",
    "    b: The upper limit of integration\n",
    "    n: The number of sample points for integration\n",
    "    \n",
    "    \"\"\"\n",
    "    int_ = 0\n",
    "    x, w = gauss_nodes_and_weights(n)\n",
    "    for i in range(n):\n",
    "        int_ = int_ + w[i]*f(x[i])\n",
    "    return int_"
   ]
  },
  {
   "cell_type": "code",
   "execution_count": null,
   "id": "a8bea08c",
   "metadata": {},
   "outputs": [],
   "source": []
  },
  {
   "cell_type": "code",
   "execution_count": 27,
   "id": "ca15efd8",
   "metadata": {},
   "outputs": [],
   "source": [
    "nodes, weights = gauss_nodes_and_weights(50)"
   ]
  },
  {
   "cell_type": "code",
   "execution_count": 28,
   "id": "8e7e1bf1",
   "metadata": {},
   "outputs": [],
   "source": [
    "No_of_points = 50\n",
    "nodes_np, weights_np = np.polynomial.legendre.leggauss(No_of_points)\n"
   ]
  },
  {
   "cell_type": "code",
   "execution_count": 29,
   "id": "d2b7528a",
   "metadata": {},
   "outputs": [
    {
     "data": {
      "text/plain": [
       "array([0.00290862, 0.0067598 , 0.01059055, 0.01438082, 0.01811556,\n",
       "       0.02178024, 0.02536067, 0.02884299, 0.03221373, 0.03545984,\n",
       "       0.03856876, 0.04152846, 0.0443275 , 0.04695505, 0.04940094,\n",
       "       0.0516557 , 0.05371062, 0.05555774, 0.05718993, 0.05860085,\n",
       "       0.05978506, 0.06073797, 0.0614559 , 0.06193607, 0.06217662,\n",
       "       0.06217662, 0.06193607, 0.0614559 , 0.06073797, 0.05978506,\n",
       "       0.05860085, 0.05718993, 0.05555774, 0.05371062, 0.0516557 ,\n",
       "       0.04940094, 0.04695505, 0.0443275 , 0.04152846, 0.03856876,\n",
       "       0.03545984, 0.03221373, 0.02884299, 0.02536067, 0.02178024,\n",
       "       0.01811556, 0.01438082, 0.01059055, 0.0067598 , 0.00290862])"
      ]
     },
     "execution_count": 29,
     "metadata": {},
     "output_type": "execute_result"
    }
   ],
   "source": [
    "weights_np"
   ]
  },
  {
   "cell_type": "code",
   "execution_count": 30,
   "id": "6b9d8b8d",
   "metadata": {},
   "outputs": [
    {
     "data": {
      "text/plain": [
       "[0.002908622553154703,\n",
       " 0.006759799189356278,\n",
       " 0.01059054838337927,\n",
       " 0.01438082276145628,\n",
       " 0.018115560713484212,\n",
       " 0.021780243170123507,\n",
       " 0.025360673570012125,\n",
       " 0.028842993580535103,\n",
       " 0.03221372822357795,\n",
       " 0.03545983561514608,\n",
       " 0.03856875661258766,\n",
       " 0.041528463090147634,\n",
       " 0.04432750433880327,\n",
       " 0.04695505130394844,\n",
       " 0.049400938449466386,\n",
       " 0.05165570306958116,\n",
       " 0.05371062188899627,\n",
       " 0.05555774480621254,\n",
       " 0.057189925647728394,\n",
       " 0.05860084980454414,\n",
       " 0.05978505870050663,\n",
       " 0.06073797084043093,\n",
       " 0.06145589958997487,\n",
       " 0.06193606742063959,\n",
       " 0.062176616655346746,\n",
       " 0.062176616655346746,\n",
       " 0.06193606742063959,\n",
       " 0.06145589958997487,\n",
       " 0.06073797084043093,\n",
       " 0.05978505870050663,\n",
       " 0.058600849804544136,\n",
       " 0.057189925647728394,\n",
       " 0.05555774480621254,\n",
       " 0.05371062188899627,\n",
       " 0.05165570306958116,\n",
       " 0.049400938449466386,\n",
       " 0.04695505130394844,\n",
       " 0.04432750433880327,\n",
       " 0.041528463090147634,\n",
       " 0.03856875661258766,\n",
       " 0.03545983561514608,\n",
       " 0.03221372822357795,\n",
       " 0.028842993580535103,\n",
       " 0.025360673570012125,\n",
       " 0.021780243170123507,\n",
       " 0.018115560713484212,\n",
       " 0.01438082276145628,\n",
       " 0.01059054838337927,\n",
       " 0.006759799189356278,\n",
       " 0.002908622553154703]"
      ]
     },
     "execution_count": 30,
     "metadata": {},
     "output_type": "execute_result"
    }
   ],
   "source": [
    "weights"
   ]
  },
  {
   "cell_type": "code",
   "execution_count": null,
   "id": "7fecc7c3",
   "metadata": {},
   "outputs": [],
   "source": [
    "a = -1\n",
    "b = 1\n",
    "# transform the nodes and weights to the interval [a, b]\n",
    "x_mapped = 0.5 * (b - a) * nodes + 0.5 * (b + a)\n",
    "\n",
    "#Calculate the integral\n",
    "integral_approx = 0.5*(0.5*(b - a) * np.sum(weights * (1+x_mapped**4)**0.5))\n",
    "print(f\"Solution for the Integral {integral_approx}\")"
   ]
  }
 ],
 "metadata": {
  "kernelspec": {
   "display_name": "Python 3 (ipykernel)",
   "language": "python",
   "name": "python3"
  },
  "language_info": {
   "codemirror_mode": {
    "name": "ipython",
    "version": 3
   },
   "file_extension": ".py",
   "mimetype": "text/x-python",
   "name": "python",
   "nbconvert_exporter": "python",
   "pygments_lexer": "ipython3",
   "version": "3.8.8"
  }
 },
 "nbformat": 4,
 "nbformat_minor": 5
}
