{
 "cells": [
  {
   "cell_type": "code",
   "execution_count": 1,
   "id": "4b87c0dd",
   "metadata": {},
   "outputs": [
    {
     "name": "stderr",
     "output_type": "stream",
     "text": [
      "C:\\Users\\cdipt\\anaconda3\\lib\\site-packages\\numpy\\_distributor_init.py:30: UserWarning: loaded more than 1 DLL from .libs:\n",
      "C:\\Users\\cdipt\\anaconda3\\lib\\site-packages\\numpy\\.libs\\libopenblas.FB5AE2TYXYH2IJRDKGDGQ3XBKLKTF43H.gfortran-win_amd64.dll\n",
      "C:\\Users\\cdipt\\anaconda3\\lib\\site-packages\\numpy\\.libs\\libopenblas.WCDJNK7YVMPZQ2ME2ZZHJJRJ3JIKNDB7.gfortran-win_amd64.dll\n",
      "C:\\Users\\cdipt\\anaconda3\\lib\\site-packages\\numpy\\.libs\\libopenblas64__v0.3.21-gcc_10_3_0.dll\n",
      "  warnings.warn(\"loaded more than 1 DLL from .libs:\"\n"
     ]
    }
   ],
   "source": [
    "import library as lib\n",
    "import numpy as np\n",
    "import matplotlib.pyplot as plt\n",
    "import os\n",
    "import sys\n",
    "import math"
   ]
  },
  {
   "cell_type": "code",
   "execution_count": 3,
   "id": "a6a274f9",
   "metadata": {},
   "outputs": [],
   "source": [
    "def g(x):\n",
    "    return math.exp(-1*x)"
   ]
  },
  {
   "cell_type": "code",
   "execution_count": 55,
   "id": "bc67dcb7",
   "metadata": {},
   "outputs": [],
   "source": [
    "def fixed_point_single_variable(g, guess, eps = 1e-4):\n",
    "    \"\"\"\n",
    "    Function to find root using fixed point method for equation of a single variable\n",
    "\n",
    "    args:\n",
    "    g: The function g(x), such that g(x) = x\n",
    "    guess: The guess values to start working with\n",
    "    eps: The minimum error before the roots are returned\n",
    "    \"\"\"\n",
    "    \n",
    "    del_ = 1e5\n",
    "    while(del_ > eps):\n",
    "        guess_new = g(guess)\n",
    "        del_ = abs(guess - guess_new)\n",
    "        guess = guess_new\n",
    "    return guess\n",
    "\n",
    "def fixed_point_multi_variable(G, X, eps = 1e-4):\n",
    "    \"\"\"\n",
    "    Function to find root using dixed point method for a system of equation\n",
    "    \n",
    "    args:\n",
    "    G: list containing all the functions\n",
    "    X: list containing initial guess values\n",
    "    eps: The minimum error before the roots are returned\n",
    "    \"\"\"\n",
    "    \n",
    "    del_ = 1e5\n",
    "    \n",
    "    while del_ > eps:\n",
    "        X_new = list(G[i](X) for i in range(len(X)))\n",
    "        del_ = sum(list(abs(X_new[i] - X[i]) for i in range(len(X))))/len(X)\n",
    "        X = X_new.copy()\n",
    "    return X"
   ]
  },
  {
   "cell_type": "code",
   "execution_count": 8,
   "id": "657bc80e",
   "metadata": {},
   "outputs": [],
   "source": [
    "def g1(X):\n",
    "    return math.sqrt(10-X[0]*X[1])\n",
    "def g2(X):\n",
    "    return math.sqrt((57-X[0])/(3*X[1]))"
   ]
  },
  {
   "cell_type": "code",
   "execution_count": 9,
   "id": "cdec89b6",
   "metadata": {},
   "outputs": [],
   "source": [
    "X = [1.5,3.5]\n",
    "G = [g1,g2]"
   ]
  },
  {
   "cell_type": "code",
   "execution_count": null,
   "id": "d59b0201",
   "metadata": {},
   "outputs": [],
   "source": []
  },
  {
   "cell_type": "code",
   "execution_count": 2,
   "id": "f1fd0f3a",
   "metadata": {},
   "outputs": [],
   "source": [
    "def newton_raphson_multivariable(F, J, x0, eps = 1e-4):\n",
    "    \"\"\"This function is used to find the root of a given function using Newton-Raphson method.\n",
    "    \n",
    "    Parameters:\n",
    "    - F: The list containing all the functions of the system \n",
    "    - J: The Jacobian matrix of f of type library.matrix.\n",
    "    - x0: The list of initial guess.\n",
    "    - eps: The tolerance.\n",
    "    \n",
    "    \"\"\"\n",
    "    x = x0.copy()\n",
    "    iter = 0\n",
    "    while True:\n",
    "        \n",
    "        J_val = lib.matrix.matrix_init((2,2), scheme=\"zero\")\n",
    "        for row in range(J.num_rows):\n",
    "            for col in range(J.num_cols):\n",
    "                J_val.matrix[row][col] = J.matrix[row][col](x)\n",
    "        \n",
    "        F_val = lib.matrix.matrix(list([F[i](x)] for i in range(len(F))))\n",
    "        J_val_inv = lib.matrix.matrix(np.linalg.inv(np.array(J_val.matrix)).tolist())\n",
    "        x_p = lib.matrix.matmul(J_val_inv,F_val).get_column(0)\n",
    "        x = list(x[i]-x_p[i] for i in range(len(x)))\n",
    "        print(x)\n",
    "        iter += 1\n",
    "        if sum(list(abs(F[i](x)) for i in range(len(x)))) < eps:\n",
    "            break\n",
    "    return x, iter\n",
    "\n",
    "def jacobian(f, x, h=1e-5):\n",
    "    \"\"\"This function is used to find the Jacobian matrix of a system of functions.\n",
    "    \n",
    "    Parameters:\n",
    "    - f: The system of functions.\n",
    "    - x: The point at which the Jacobian matrix is to be evaluated.\n",
    "    - h: The step size.\n",
    "    \n",
    "    Returns:\n",
    "    - J: The Jacobian matrix of f.\n",
    "    \"\"\"\n",
    "    n = len(f(x))\n",
    "    m = len(x)\n",
    "    J = np.zeros((n, m))\n",
    "    for i in range(n):\n",
    "        for j in range(m):\n",
    "            x1 = x.copy()\n",
    "            x2 = x.copy()\n",
    "            x1[j] += h\n",
    "            x2[j] -= h\n",
    "            J[i, j] = (f(x1)[i] - f(x2)[i]) / (2 * h)\n",
    "    return J\n",
    "\n",
    "# Example usage:\n",
    "# f = lambda x: np.array([x[0]**2 + x[1]**2 - 1, x[0] - x[1]])\n",
    "# J = lambda x: np.array([[2*x[0], 2*x[1]], [1, -1]])\n",
    "# x0 = np.array([0.5, 0.5])\n",
    "# tol = 1e-5\n",
    "# root, iter = newton_raphson_multivariable(f, J, x0, tol)\n",
    "# solution should be [0.70710678, 0.70710678]\n",
    "# print(root, iter)"
   ]
  },
  {
   "cell_type": "code",
   "execution_count": 3,
   "id": "6bf8262a",
   "metadata": {},
   "outputs": [],
   "source": [
    "def g1(X):\n",
    "    return X[0]**2 + X[1]**2 - 1\n",
    "def g2(X):\n",
    "    return X[0] - X[1]\n",
    "def gp11(X):\n",
    "    return 2*X[0]\n",
    "def gp12(X):\n",
    "    return 2*X[1]\n",
    "def gp21(X):\n",
    "    return 1\n",
    "def gp22(X):\n",
    "    return -1\n",
    "\n",
    "F = [g1,g2]\n",
    "J = lib.matrix.matrix([[gp11,gp12],[gp21,gp22]])\n",
    "x0 = [0.5, 0.5]"
   ]
  },
  {
   "cell_type": "code",
   "execution_count": 4,
   "id": "0075d509",
   "metadata": {},
   "outputs": [
    {
     "name": "stdout",
     "output_type": "stream",
     "text": [
      "[0.75, 0.75]\n",
      "[0.7083333333333334, 0.7083333333333334]\n",
      "[0.7071078431372549, 0.7071078431372549]\n"
     ]
    }
   ],
   "source": [
    "root, iter = newton_raphson_multivariable(F, J, x0)"
   ]
  },
  {
   "cell_type": "code",
   "execution_count": 26,
   "id": "83dd47e6",
   "metadata": {},
   "outputs": [],
   "source": [
    "def gauss_nodes_and_weights(n):\n",
    "    \"\"\"\n",
    "    This function is used to find the nodes and weights for Gaussian Quadrature.\n",
    "\n",
    "    n: number of intervals.\n",
    "        \n",
    "    \"\"\"\n",
    "    x = []\n",
    "    w = []\n",
    "    if n == 1:\n",
    "        x.append(0.0)\n",
    "        w.append(2.0)\n",
    "        return x, w\n",
    "    for i in range(n):\n",
    "        x0 = math.cos(math.pi * (i + 0.75) / (n + 0.5))\n",
    "        x1 = 0\n",
    "        while abs(x0 - x1) > 1e-10:\n",
    "            p0 = 1.0\n",
    "            p1 = 0.0\n",
    "            for j in range(n):\n",
    "                p2 = p1\n",
    "                p1 = p0\n",
    "                p0 = ((2 * j + 1) * x0 * p1 - j * p2) / (j + 1)\n",
    "            pp = n * (x0 * p0 - p1) / (x0 * x0 - 1)\n",
    "            x1 = x0\n",
    "            x0 = x1 - p0 / pp\n",
    "        x.append(x0)\n",
    "        w.append(2 / ((1 - x0 * x0) * pp * pp))\n",
    "    return x, w\n",
    "\n",
    "def integration_using_Gauss_Quadrature(f, a, b, n):\n",
    "    \"\"\"\n",
    "    Function to calculate the integral of a function using the Gaussian Quadrature Techmique\n",
    "    \n",
    "    f: The function whose integral has to be calculated\n",
    "    a: The lower limit of integration\n",
    "    b: The upper limit of integration\n",
    "    n: The number of sample points for integration\n",
    "    \n",
    "    \"\"\"\n",
    "    int_ = 0\n",
    "    x, w = gauss_nodes_and_weights(n)\n",
    "    for i in range(n):\n",
    "        int_ = int_ + w[i]*f(x[i])\n",
    "    return int_"
   ]
  },
  {
   "cell_type": "code",
   "execution_count": 31,
   "id": "6d19a4d8",
   "metadata": {},
   "outputs": [],
   "source": [
    "# Semi-implicit euler\n",
    "def semi_implicit_euler(f,g, x0, v0, n, t_range):\n",
    "    \"\"\"\n",
    "    The function to calculate the solution using semi-implicit Euler.\n",
    "    \"\"\"\n",
    "    \n",
    "    v = []\n",
    "    x = []\n",
    "    t0,tn = t_range\n",
    "    \n",
    "    dt = (tn-t0)/n\n",
    "    \n",
    "    v.append(v0)\n",
    "    x.append(x0)\n",
    "    t = 0\n",
    "    for i in range(n):\n",
    "        v.append(v[i] + g(t,x[i])*dt)\n",
    "        x.append(x[i] + f(t,v[i+1])*dt)\n",
    "        t = t+dt\n",
    "    return x,v,t\n",
    "        "
   ]
  },
  {
   "cell_type": "code",
   "execution_count": 32,
   "id": "93a6e7ec",
   "metadata": {},
   "outputs": [],
   "source": [
    "def verlet(a, x0, v0, n, t_range):\n",
    "    \n",
    "    v = []\n",
    "    x = []\n",
    "    t0,tn = t_range\n",
    "    dt = (tn-t0)/n\n",
    "    \n",
    "    x.append(x0)\n",
    "    x.append(x0 + v0*dt + 0.5*a(x0)*(dt)**2)\n",
    "    \n",
    "    for i in range(n-1):\n",
    "        x.append(2*x[-1] - x[-2] + a(x[-1])*(dt)**2)\n",
    "    return x"
   ]
  },
  {
   "cell_type": "code",
   "execution_count": 34,
   "id": "46616965",
   "metadata": {},
   "outputs": [],
   "source": [
    "def velocity_verlet(a, x0, v0, n, t_range):\n",
    "    \n",
    "    v = []\n",
    "    x = []\n",
    "    t0,tn = t_range\n",
    "    dt = (tn-t0)/n\n",
    "    \n",
    "    x.append(x0)\n",
    "    v.append(v0)\n",
    "    \n",
    "    for i in range(n):\n",
    "        v_half_step = v[i] + 0.5*dt*a(x[i])\n",
    "        x.append(x[i]+v_half_step*dt)\n",
    "        v.append(v_half_step + 0.5*dt*a(x[i+1]))\n",
    "    return x,v\n",
    "    "
   ]
  },
  {
   "cell_type": "code",
   "execution_count": null,
   "id": "74774de7",
   "metadata": {},
   "outputs": [],
   "source": [
    "import numpy as np\n",
    "import matplotlib.pyplot as plt\n",
    "\n",
    "# Solve x\" = f(x) using leapfrog integrator\n",
    "\n",
    "# For this demo, x'' + x = 0\n",
    "# Exact solution is x(t) = sin(t)\n",
    "def f(x):\n",
    "    return -x\n",
    "\n",
    "\n",
    "k = 5               # number of periods\n",
    "N = 16              # number of time steps per period\n",
    "h = 2*np.pi/N       # step size\n",
    "\n",
    "x = np.empty(k*N+1) # positions\n",
    "v = np.empty(k*N+1) # velocities\n",
    "\n",
    "# Initial conditions\n",
    "x[0] = 0\n",
    "v[0] = 1\n",
    "anew = f(x[0])\n",
    "\n",
    "# leapfrog method\n",
    "for i in range(1, k*N+1):\n",
    "    aold = anew\n",
    "    x[i] = x[i-1] + v[i-1]*h + 0.5*aold*h**2\n",
    "    anew = f(x[i])\n",
    "    v[i] = v[i-1] + 0.5*(aold + anew)*h"
   ]
  },
  {
   "cell_type": "code",
   "execution_count": 38,
   "id": "d68762f6",
   "metadata": {},
   "outputs": [],
   "source": [
    "def leapfrog(a,x0,v0,n,t_range):\n",
    "    v = []\n",
    "    x = []\n",
    "    t0,tn = t_range\n",
    "    dt = (tn-t0)/n\n",
    "    \n",
    "    x.append(x0)\n",
    "    v.append(v0)\n",
    "    \n",
    "    for i in range(n):\n",
    "        x.append(x[i]+v[i]*dt + 0.5*a(x[i])*(dt)**2)\n",
    "        v.append(v[i] + 0.5*dt*(a(x[i+1])+a(x[i])))\n",
    "    return x, v"
   ]
  },
  {
   "cell_type": "code",
   "execution_count": 101,
   "id": "3b844366",
   "metadata": {},
   "outputs": [],
   "source": [
    "def Conjugate_gradient(A, B, G, eps = 1e-4):\n",
    "    \n",
    "    \"\"\"\n",
    "    Function to solve a system of linear equations using Conjugate Gradient technique\n",
    "    \n",
    "    A: The input matrix of the form AX = B\n",
    "    B: The input column of the form AX = B\n",
    "    G: The initial guess value for X in AX = B\n",
    "    eps: The error margin for the solution\n",
    "    \"\"\"\n",
    "    r = lib.matrix.matrix(list([B.get_column(0)[i] - lib.matrix.matmul(A,G).get_column(0)[i]] for i in range(B.num_rows)))\n",
    "    \n",
    "    if (sum(list(abs(r.get_column(0)[i]) for i in range(r.num_rows)))) < eps:\n",
    "        return G\n",
    "#     print(r)\n",
    "    p = lib.matrix.matrix(r.matrix.copy())\n",
    "    \n",
    "    x = lib.matrix.matrix(G.matrix.copy())\n",
    "    c = 0\n",
    "    while(True):\n",
    "        alpha = lib.matrix.dot(r,r)/(lib.matrix.dot(p,lib.matrix.matmul(A,p)))\n",
    "        x = lib.matrix.matrix(list([x.get_column(0)[i] + alpha*p.get_column(0)[i]] for i in range(x.num_rows)))\n",
    "\n",
    "        r_old = lib.matrix.matrix(r.matrix.copy())\n",
    "        r = lib.matrix.matrix(list([r.get_column(0)[i] - alpha*p.get_column(0)[i]] for i in range(r.num_rows)))\n",
    "        print(r)\n",
    "        break\n",
    "        if (sum(list(abs(r.get_column(0)[i]) for i in range(r.num_rows)))) < eps:\n",
    "            return x\n",
    "        beta = lib.matrix.dot(r,r)/(lib.matrix.dot(r_old,r_old))\n",
    "        p = lib.matrix.matrix(list([r.get_column(0)[i] + beta*p.get_column(0)[i]] for i in range(r.num_rows)))\n",
    "        c = c+1"
   ]
  },
  {
   "cell_type": "code",
   "execution_count": 102,
   "id": "ce028d0c",
   "metadata": {},
   "outputs": [
    {
     "ename": "AttributeError",
     "evalue": "'int' object has no attribute 'get_column'",
     "output_type": "error",
     "traceback": [
      "\u001b[1;31m---------------------------------------------------------------------------\u001b[0m",
      "\u001b[1;31mAttributeError\u001b[0m                            Traceback (most recent call last)",
      "Cell \u001b[1;32mIn[102], line 6\u001b[0m\n\u001b[0;32m      4\u001b[0m tol \u001b[38;5;241m=\u001b[39m \u001b[38;5;241m1e-5\u001b[39m\n\u001b[0;32m      5\u001b[0m \u001b[38;5;66;03m# solution should be [0.09090909, 0.63636364]\u001b[39;00m\n\u001b[1;32m----> 6\u001b[0m \u001b[38;5;28mprint\u001b[39m(\u001b[43mConjugate_gradient\u001b[49m\u001b[43m(\u001b[49m\u001b[43mA\u001b[49m\u001b[43m,\u001b[49m\u001b[43m \u001b[49m\u001b[43mB\u001b[49m\u001b[43m,\u001b[49m\u001b[43m \u001b[49m\u001b[43mG\u001b[49m\u001b[43m,\u001b[49m\u001b[43m \u001b[49m\u001b[43mtol\u001b[49m\u001b[43m)\u001b[49m)\n",
      "Cell \u001b[1;32mIn[101], line 25\u001b[0m, in \u001b[0;36mConjugate_gradient\u001b[1;34m(A, B, G, eps)\u001b[0m\n\u001b[0;32m     22\u001b[0m x \u001b[38;5;241m=\u001b[39m lib\u001b[38;5;241m.\u001b[39mmatrix\u001b[38;5;241m.\u001b[39mmatrix(\u001b[38;5;28mlist\u001b[39m([x\u001b[38;5;241m.\u001b[39mget_column(\u001b[38;5;241m0\u001b[39m)[i] \u001b[38;5;241m+\u001b[39m alpha\u001b[38;5;241m*\u001b[39mp\u001b[38;5;241m.\u001b[39mget_column(\u001b[38;5;241m0\u001b[39m)[i]] \u001b[38;5;28;01mfor\u001b[39;00m i \u001b[38;5;129;01min\u001b[39;00m \u001b[38;5;28mrange\u001b[39m(x\u001b[38;5;241m.\u001b[39mnum_rows)))\n\u001b[0;32m     24\u001b[0m r_old \u001b[38;5;241m=\u001b[39m lib\u001b[38;5;241m.\u001b[39mmatrix\u001b[38;5;241m.\u001b[39mmatrix(r\u001b[38;5;241m.\u001b[39mmatrix\u001b[38;5;241m.\u001b[39mcopy())\n\u001b[1;32m---> 25\u001b[0m r \u001b[38;5;241m=\u001b[39m lib\u001b[38;5;241m.\u001b[39mmatrix\u001b[38;5;241m.\u001b[39mmatrix(\u001b[38;5;28;43mlist\u001b[39;49m\u001b[43m(\u001b[49m\u001b[43m[\u001b[49m\u001b[43mr\u001b[49m\u001b[38;5;241;43m.\u001b[39;49m\u001b[43mget_column\u001b[49m\u001b[43m(\u001b[49m\u001b[38;5;241;43m0\u001b[39;49m\u001b[43m)\u001b[49m\u001b[43m[\u001b[49m\u001b[43mi\u001b[49m\u001b[43m]\u001b[49m\u001b[43m \u001b[49m\u001b[38;5;241;43m-\u001b[39;49m\u001b[43m \u001b[49m\u001b[43malpha\u001b[49m\u001b[38;5;241;43m*\u001b[39;49m\u001b[43m(\u001b[49m\u001b[43mlib\u001b[49m\u001b[38;5;241;43m.\u001b[39;49m\u001b[43mmatrix\u001b[49m\u001b[38;5;241;43m.\u001b[39;49m\u001b[43mdot\u001b[49m\u001b[43m(\u001b[49m\u001b[43mp\u001b[49m\u001b[43m,\u001b[49m\u001b[43mlib\u001b[49m\u001b[38;5;241;43m.\u001b[39;49m\u001b[43mmatrix\u001b[49m\u001b[38;5;241;43m.\u001b[39;49m\u001b[43mmatmul\u001b[49m\u001b[43m(\u001b[49m\u001b[43mA\u001b[49m\u001b[43m,\u001b[49m\u001b[43mp\u001b[49m\u001b[43m)\u001b[49m\u001b[43m)\u001b[49m\u001b[43m)\u001b[49m\u001b[38;5;241;43m.\u001b[39;49m\u001b[43mget_column\u001b[49m\u001b[43m(\u001b[49m\u001b[38;5;241;43m0\u001b[39;49m\u001b[43m)\u001b[49m\u001b[43m[\u001b[49m\u001b[43mi\u001b[49m\u001b[43m]\u001b[49m\u001b[43m]\u001b[49m\u001b[43m \u001b[49m\u001b[38;5;28;43;01mfor\u001b[39;49;00m\u001b[43m \u001b[49m\u001b[43mi\u001b[49m\u001b[43m \u001b[49m\u001b[38;5;129;43;01min\u001b[39;49;00m\u001b[43m \u001b[49m\u001b[38;5;28;43mrange\u001b[39;49m\u001b[43m(\u001b[49m\u001b[43mr\u001b[49m\u001b[38;5;241;43m.\u001b[39;49m\u001b[43mnum_rows\u001b[49m\u001b[43m)\u001b[49m\u001b[43m)\u001b[49m)\n\u001b[0;32m     26\u001b[0m \u001b[38;5;28mprint\u001b[39m(r)\n\u001b[0;32m     27\u001b[0m \u001b[38;5;28;01mbreak\u001b[39;00m\n",
      "Cell \u001b[1;32mIn[101], line 25\u001b[0m, in \u001b[0;36m<genexpr>\u001b[1;34m(.0)\u001b[0m\n\u001b[0;32m     22\u001b[0m x \u001b[38;5;241m=\u001b[39m lib\u001b[38;5;241m.\u001b[39mmatrix\u001b[38;5;241m.\u001b[39mmatrix(\u001b[38;5;28mlist\u001b[39m([x\u001b[38;5;241m.\u001b[39mget_column(\u001b[38;5;241m0\u001b[39m)[i] \u001b[38;5;241m+\u001b[39m alpha\u001b[38;5;241m*\u001b[39mp\u001b[38;5;241m.\u001b[39mget_column(\u001b[38;5;241m0\u001b[39m)[i]] \u001b[38;5;28;01mfor\u001b[39;00m i \u001b[38;5;129;01min\u001b[39;00m \u001b[38;5;28mrange\u001b[39m(x\u001b[38;5;241m.\u001b[39mnum_rows)))\n\u001b[0;32m     24\u001b[0m r_old \u001b[38;5;241m=\u001b[39m lib\u001b[38;5;241m.\u001b[39mmatrix\u001b[38;5;241m.\u001b[39mmatrix(r\u001b[38;5;241m.\u001b[39mmatrix\u001b[38;5;241m.\u001b[39mcopy())\n\u001b[1;32m---> 25\u001b[0m r \u001b[38;5;241m=\u001b[39m lib\u001b[38;5;241m.\u001b[39mmatrix\u001b[38;5;241m.\u001b[39mmatrix(\u001b[38;5;28mlist\u001b[39m([r\u001b[38;5;241m.\u001b[39mget_column(\u001b[38;5;241m0\u001b[39m)[i] \u001b[38;5;241m-\u001b[39m alpha\u001b[38;5;241m*\u001b[39m\u001b[43m(\u001b[49m\u001b[43mlib\u001b[49m\u001b[38;5;241;43m.\u001b[39;49m\u001b[43mmatrix\u001b[49m\u001b[38;5;241;43m.\u001b[39;49m\u001b[43mdot\u001b[49m\u001b[43m(\u001b[49m\u001b[43mp\u001b[49m\u001b[43m,\u001b[49m\u001b[43mlib\u001b[49m\u001b[38;5;241;43m.\u001b[39;49m\u001b[43mmatrix\u001b[49m\u001b[38;5;241;43m.\u001b[39;49m\u001b[43mmatmul\u001b[49m\u001b[43m(\u001b[49m\u001b[43mA\u001b[49m\u001b[43m,\u001b[49m\u001b[43mp\u001b[49m\u001b[43m)\u001b[49m\u001b[43m)\u001b[49m\u001b[43m)\u001b[49m\u001b[38;5;241;43m.\u001b[39;49m\u001b[43mget_column\u001b[49m(\u001b[38;5;241m0\u001b[39m)[i]] \u001b[38;5;28;01mfor\u001b[39;00m i \u001b[38;5;129;01min\u001b[39;00m \u001b[38;5;28mrange\u001b[39m(r\u001b[38;5;241m.\u001b[39mnum_rows)))\n\u001b[0;32m     26\u001b[0m \u001b[38;5;28mprint\u001b[39m(r)\n\u001b[0;32m     27\u001b[0m \u001b[38;5;28;01mbreak\u001b[39;00m\n",
      "\u001b[1;31mAttributeError\u001b[0m: 'int' object has no attribute 'get_column'"
     ]
    }
   ],
   "source": [
    "A = lib.matrix.matrix([[4, 1], [1, 3]])\n",
    "B = lib.matrix.matrix([[1], [2]])\n",
    "G = lib.matrix.matrix([[0], [0]])\n",
    "tol = 1e-5\n",
    "# solution should be [0.09090909, 0.63636364]\n",
    "print(Conjugate_gradient(A, B, G, tol))"
   ]
  },
  {
   "cell_type": "code",
   "execution_count": 43,
   "id": "cf35d5f3",
   "metadata": {},
   "outputs": [
    {
     "data": {
      "text/plain": [
       "2"
      ]
     },
     "execution_count": 43,
     "metadata": {},
     "output_type": "execute_result"
    }
   ],
   "source": [
    "A.num_cols"
   ]
  },
  {
   "cell_type": "code",
   "execution_count": 52,
   "id": "8cf702c5",
   "metadata": {},
   "outputs": [
    {
     "name": "stdout",
     "output_type": "stream",
     "text": [
      " 1\t\n",
      " 2\t\n",
      "\n"
     ]
    }
   ],
   "source": [
    "print(b)"
   ]
  },
  {
   "cell_type": "code",
   "execution_count": 65,
   "id": "88634323",
   "metadata": {},
   "outputs": [
    {
     "ename": "TypeError",
     "evalue": "'method' object cannot be interpreted as an integer",
     "output_type": "error",
     "traceback": [
      "\u001b[1;31m---------------------------------------------------------------------------\u001b[0m",
      "\u001b[1;31mTypeError\u001b[0m                                 Traceback (most recent call last)",
      "Cell \u001b[1;32mIn[65], line 14\u001b[0m\n\u001b[0;32m     12\u001b[0m x \u001b[38;5;241m=\u001b[39m lib\u001b[38;5;241m.\u001b[39mmatrix\u001b[38;5;241m.\u001b[39mmatrix(\u001b[38;5;28mlist\u001b[39m([x\u001b[38;5;241m.\u001b[39mget_column(\u001b[38;5;241m0\u001b[39m)[i] \u001b[38;5;241m+\u001b[39m alpha\u001b[38;5;241m*\u001b[39mp\u001b[38;5;241m.\u001b[39mget_column(\u001b[38;5;241m0\u001b[39m)[i]] \u001b[38;5;28;01mfor\u001b[39;00m i \u001b[38;5;129;01min\u001b[39;00m \u001b[38;5;28mrange\u001b[39m(x\u001b[38;5;241m.\u001b[39mnum_rows)))\n\u001b[0;32m     13\u001b[0m r \u001b[38;5;241m=\u001b[39m lib\u001b[38;5;241m.\u001b[39mmatrix\u001b[38;5;241m.\u001b[39mmatrix(\u001b[38;5;28mlist\u001b[39m([r\u001b[38;5;241m.\u001b[39mget_column(\u001b[38;5;241m0\u001b[39m)[i] \u001b[38;5;241m+\u001b[39m alpha\u001b[38;5;241m*\u001b[39mp\u001b[38;5;241m.\u001b[39mget_column(\u001b[38;5;241m0\u001b[39m)[i]] \u001b[38;5;28;01mfor\u001b[39;00m i \u001b[38;5;129;01min\u001b[39;00m \u001b[38;5;28mrange\u001b[39m(r\u001b[38;5;241m.\u001b[39mnum_rows)))\n\u001b[1;32m---> 14\u001b[0m \u001b[38;5;28;01mif\u001b[39;00m (\u001b[38;5;28msum\u001b[39m(\u001b[38;5;28mlist\u001b[39m(\u001b[38;5;28mabs\u001b[39m(r\u001b[38;5;241m.\u001b[39mget_column(\u001b[38;5;241m0\u001b[39m)[i]) \u001b[38;5;28;01mfor\u001b[39;00m i \u001b[38;5;129;01min\u001b[39;00m \u001b[38;5;28;43mrange\u001b[39;49m\u001b[43m(\u001b[49m\u001b[43mr\u001b[49m\u001b[38;5;241;43m.\u001b[39;49m\u001b[43mget_row\u001b[49m\u001b[43m)\u001b[49m))) \u001b[38;5;241m<\u001b[39m eps:\n\u001b[0;32m     15\u001b[0m     \u001b[38;5;28mprint\u001b[39m(\u001b[38;5;124m\"\u001b[39m\u001b[38;5;124mDone\u001b[39m\u001b[38;5;124m\"\u001b[39m)\n\u001b[0;32m     16\u001b[0m beta \u001b[38;5;241m=\u001b[39m lib\u001b[38;5;241m.\u001b[39mmatrix\u001b[38;5;241m.\u001b[39mdot(r,r)\u001b[38;5;241m/\u001b[39m(lib\u001b[38;5;241m.\u001b[39mmatrix\u001b[38;5;241m.\u001b[39mdot(p,p))\n",
      "\u001b[1;31mTypeError\u001b[0m: 'method' object cannot be interpreted as an integer"
     ]
    }
   ],
   "source": [
    "eps = 1e-5\n",
    "r = lib.matrix.matrix(list([B.get_column(0)[i] - lib.matrix.matmul(A,G).get_column(0)[i]] for i in range(B.num_rows)))\n",
    "\n",
    "if (sum(list(abs(r.get_column(0)[i]) for i in range(r.num_rows)))) < eps:\n",
    "    print(\"Done\")\n",
    "\n",
    "p = lib.matrix.matrix(r.matrix.copy())\n",
    "\n",
    "x = lib.matrix.matrix(G.matrix.copy())\n",
    "while(True):\n",
    "    alpha = lib.matrix.dot(r,r)/(lib.matrix.dot(p,lib.matrix.matmul(A,p)))\n",
    "    x = lib.matrix.matrix(list([x.get_column(0)[i] + alpha*p.get_column(0)[i]] for i in range(x.num_rows)))\n",
    "    r = lib.matrix.matrix(list([r.get_column(0)[i] + alpha*p.get_column(0)[i]] for i in range(r.num_rows)))\n",
    "    if (sum(list(abs(r.get_column(0)[i]) for i in range(r.get_row)))) < eps:\n",
    "        print(\"Done\")\n",
    "    beta = lib.matrix.dot(r,r)/(lib.matrix.dot(p,p))\n",
    "    p = lib.matrix.matrix(list([r.get_column(0)[i] + beta*p.get_column(0)[i]] for i in range(r.num_rows)))"
   ]
  },
  {
   "cell_type": "code",
   "execution_count": 58,
   "id": "be293e0e",
   "metadata": {},
   "outputs": [
    {
     "data": {
      "text/plain": [
       "[0, 0]"
      ]
     },
     "execution_count": 58,
     "metadata": {},
     "output_type": "execute_result"
    }
   ],
   "source": [
    "x.get_column(0)"
   ]
  },
  {
   "cell_type": "code",
   "execution_count": 63,
   "id": "e61d2c6e",
   "metadata": {},
   "outputs": [
    {
     "name": "stdout",
     "output_type": "stream",
     "text": [
      " 1\t\n",
      " 2\t\n",
      "\n"
     ]
    }
   ],
   "source": [
    "print(p)"
   ]
  },
  {
   "cell_type": "code",
   "execution_count": null,
   "id": "84b7774b",
   "metadata": {},
   "outputs": [],
   "source": [
    "alpha.n"
   ]
  },
  {
   "cell_type": "code",
   "execution_count": 61,
   "id": "10d93a86",
   "metadata": {},
   "outputs": [
    {
     "ename": "AttributeError",
     "evalue": "'float' object has no attribute 'num_cols'",
     "output_type": "error",
     "traceback": [
      "\u001b[1;31m---------------------------------------------------------------------------\u001b[0m",
      "\u001b[1;31mAttributeError\u001b[0m                            Traceback (most recent call last)",
      "Cell \u001b[1;32mIn[61], line 1\u001b[0m\n\u001b[1;32m----> 1\u001b[0m \u001b[43mlib\u001b[49m\u001b[38;5;241;43m.\u001b[39;49m\u001b[43mmatrix\u001b[49m\u001b[38;5;241;43m.\u001b[39;49m\u001b[43mmatmul\u001b[49m\u001b[43m(\u001b[49m\u001b[43malpha\u001b[49m\u001b[43m,\u001b[49m\u001b[43mp\u001b[49m\u001b[43m)\u001b[49m\n",
      "File \u001b[1;32m~\\Documents\\GitHub\\P452\\library\\matrix.py:79\u001b[0m, in \u001b[0;36mmatmul\u001b[1;34m(A, B)\u001b[0m\n\u001b[0;32m     76\u001b[0m         sum_ \u001b[38;5;241m=\u001b[39m sum_ \u001b[38;5;241m+\u001b[39m l1[i]\u001b[38;5;241m*\u001b[39ml2[i]\n\u001b[0;32m     77\u001b[0m     \u001b[38;5;28;01mreturn\u001b[39;00m sum_\n\u001b[1;32m---> 79\u001b[0m \u001b[38;5;28;01massert\u001b[39;00m \u001b[43mA\u001b[49m\u001b[38;5;241;43m.\u001b[39;49m\u001b[43mnum_cols\u001b[49m \u001b[38;5;241m==\u001b[39m B\u001b[38;5;241m.\u001b[39mnum_rows, \u001b[38;5;124m\"\u001b[39m\u001b[38;5;124mMultiplication shape not matched for the matrices\u001b[39m\u001b[38;5;124m\"\u001b[39m\n\u001b[0;32m     80\u001b[0m new_matrix \u001b[38;5;241m=\u001b[39m matrix_init((A\u001b[38;5;241m.\u001b[39mnum_rows,B\u001b[38;5;241m.\u001b[39mnum_cols),scheme \u001b[38;5;241m=\u001b[39m \u001b[38;5;124m\"\u001b[39m\u001b[38;5;124mzero\u001b[39m\u001b[38;5;124m\"\u001b[39m)\n\u001b[0;32m     81\u001b[0m \u001b[38;5;28;01mfor\u001b[39;00m row \u001b[38;5;129;01min\u001b[39;00m \u001b[38;5;28mrange\u001b[39m(new_matrix\u001b[38;5;241m.\u001b[39mnum_rows):\n",
      "\u001b[1;31mAttributeError\u001b[0m: 'float' object has no attribute 'num_cols'"
     ]
    }
   ],
   "source": [
    "lib.matrix.matmul(alpha,p)"
   ]
  },
  {
   "cell_type": "code",
   "execution_count": 59,
   "id": "08ff9764",
   "metadata": {},
   "outputs": [
    {
     "ename": "AttributeError",
     "evalue": "'float' object has no attribute 'num_cols'",
     "output_type": "error",
     "traceback": [
      "\u001b[1;31m---------------------------------------------------------------------------\u001b[0m",
      "\u001b[1;31mAttributeError\u001b[0m                            Traceback (most recent call last)",
      "Cell \u001b[1;32mIn[59], line 1\u001b[0m\n\u001b[1;32m----> 1\u001b[0m \u001b[38;5;28;43mlist\u001b[39;49m\u001b[43m(\u001b[49m\u001b[43m[\u001b[49m\u001b[43mx\u001b[49m\u001b[38;5;241;43m.\u001b[39;49m\u001b[43mget_column\u001b[49m\u001b[43m(\u001b[49m\u001b[38;5;241;43m0\u001b[39;49m\u001b[43m)\u001b[49m\u001b[43m[\u001b[49m\u001b[43mi\u001b[49m\u001b[43m]\u001b[49m\u001b[43m \u001b[49m\u001b[38;5;241;43m+\u001b[39;49m\u001b[43m \u001b[49m\u001b[43mlib\u001b[49m\u001b[38;5;241;43m.\u001b[39;49m\u001b[43mmatrix\u001b[49m\u001b[38;5;241;43m.\u001b[39;49m\u001b[43mmatmul\u001b[49m\u001b[43m(\u001b[49m\u001b[43malpha\u001b[49m\u001b[43m,\u001b[49m\u001b[43mp\u001b[49m\u001b[43m)\u001b[49m\u001b[38;5;241;43m.\u001b[39;49m\u001b[43mget_column\u001b[49m\u001b[43m(\u001b[49m\u001b[38;5;241;43m0\u001b[39;49m\u001b[43m)\u001b[49m\u001b[43m[\u001b[49m\u001b[43mi\u001b[49m\u001b[43m]\u001b[49m\u001b[43m]\u001b[49m\u001b[43m \u001b[49m\u001b[38;5;28;43;01mfor\u001b[39;49;00m\u001b[43m \u001b[49m\u001b[43mi\u001b[49m\u001b[43m \u001b[49m\u001b[38;5;129;43;01min\u001b[39;49;00m\u001b[43m \u001b[49m\u001b[38;5;28;43mrange\u001b[39;49m\u001b[43m(\u001b[49m\u001b[43mx\u001b[49m\u001b[38;5;241;43m.\u001b[39;49m\u001b[43mnum_rows\u001b[49m\u001b[43m)\u001b[49m\u001b[43m)\u001b[49m\n",
      "Cell \u001b[1;32mIn[59], line 1\u001b[0m, in \u001b[0;36m<genexpr>\u001b[1;34m(.0)\u001b[0m\n\u001b[1;32m----> 1\u001b[0m \u001b[38;5;28mlist\u001b[39m([x\u001b[38;5;241m.\u001b[39mget_column(\u001b[38;5;241m0\u001b[39m)[i] \u001b[38;5;241m+\u001b[39m \u001b[43mlib\u001b[49m\u001b[38;5;241;43m.\u001b[39;49m\u001b[43mmatrix\u001b[49m\u001b[38;5;241;43m.\u001b[39;49m\u001b[43mmatmul\u001b[49m\u001b[43m(\u001b[49m\u001b[43malpha\u001b[49m\u001b[43m,\u001b[49m\u001b[43mp\u001b[49m\u001b[43m)\u001b[49m\u001b[38;5;241m.\u001b[39mget_column(\u001b[38;5;241m0\u001b[39m)[i]] \u001b[38;5;28;01mfor\u001b[39;00m i \u001b[38;5;129;01min\u001b[39;00m \u001b[38;5;28mrange\u001b[39m(x\u001b[38;5;241m.\u001b[39mnum_rows))\n",
      "File \u001b[1;32m~\\Documents\\GitHub\\P452\\library\\matrix.py:79\u001b[0m, in \u001b[0;36mmatmul\u001b[1;34m(A, B)\u001b[0m\n\u001b[0;32m     76\u001b[0m         sum_ \u001b[38;5;241m=\u001b[39m sum_ \u001b[38;5;241m+\u001b[39m l1[i]\u001b[38;5;241m*\u001b[39ml2[i]\n\u001b[0;32m     77\u001b[0m     \u001b[38;5;28;01mreturn\u001b[39;00m sum_\n\u001b[1;32m---> 79\u001b[0m \u001b[38;5;28;01massert\u001b[39;00m \u001b[43mA\u001b[49m\u001b[38;5;241;43m.\u001b[39;49m\u001b[43mnum_cols\u001b[49m \u001b[38;5;241m==\u001b[39m B\u001b[38;5;241m.\u001b[39mnum_rows, \u001b[38;5;124m\"\u001b[39m\u001b[38;5;124mMultiplication shape not matched for the matrices\u001b[39m\u001b[38;5;124m\"\u001b[39m\n\u001b[0;32m     80\u001b[0m new_matrix \u001b[38;5;241m=\u001b[39m matrix_init((A\u001b[38;5;241m.\u001b[39mnum_rows,B\u001b[38;5;241m.\u001b[39mnum_cols),scheme \u001b[38;5;241m=\u001b[39m \u001b[38;5;124m\"\u001b[39m\u001b[38;5;124mzero\u001b[39m\u001b[38;5;124m\"\u001b[39m)\n\u001b[0;32m     81\u001b[0m \u001b[38;5;28;01mfor\u001b[39;00m row \u001b[38;5;129;01min\u001b[39;00m \u001b[38;5;28mrange\u001b[39m(new_matrix\u001b[38;5;241m.\u001b[39mnum_rows):\n",
      "\u001b[1;31mAttributeError\u001b[0m: 'float' object has no attribute 'num_cols'"
     ]
    }
   ],
   "source": [
    "list([x.get_column(0)[i] + lib.matrix.matmul(alpha,p).get_column(0)[i]] for i in range(x.num_rows))"
   ]
  },
  {
   "cell_type": "code",
   "execution_count": 64,
   "id": "6584c7b3",
   "metadata": {},
   "outputs": [
    {
     "data": {
      "text/plain": [
       "0.25"
      ]
     },
     "execution_count": 64,
     "metadata": {},
     "output_type": "execute_result"
    }
   ],
   "source": [
    "alpha"
   ]
  },
  {
   "cell_type": "code",
   "execution_count": null,
   "id": "e5ad1852",
   "metadata": {},
   "outputs": [],
   "source": []
  }
 ],
 "metadata": {
  "kernelspec": {
   "display_name": "Python 3 (ipykernel)",
   "language": "python",
   "name": "python3"
  },
  "language_info": {
   "codemirror_mode": {
    "name": "ipython",
    "version": 3
   },
   "file_extension": ".py",
   "mimetype": "text/x-python",
   "name": "python",
   "nbconvert_exporter": "python",
   "pygments_lexer": "ipython3",
   "version": "3.8.8"
  }
 },
 "nbformat": 4,
 "nbformat_minor": 5
}
