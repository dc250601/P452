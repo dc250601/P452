{
 "cells": [
  {
   "cell_type": "code",
   "execution_count": 1,
   "id": "4b87c0dd",
   "metadata": {},
   "outputs": [
    {
     "name": "stderr",
     "output_type": "stream",
     "text": [
      "C:\\Users\\cdipt\\anaconda3\\lib\\site-packages\\numpy\\_distributor_init.py:30: UserWarning: loaded more than 1 DLL from .libs:\n",
      "C:\\Users\\cdipt\\anaconda3\\lib\\site-packages\\numpy\\.libs\\libopenblas.FB5AE2TYXYH2IJRDKGDGQ3XBKLKTF43H.gfortran-win_amd64.dll\n",
      "C:\\Users\\cdipt\\anaconda3\\lib\\site-packages\\numpy\\.libs\\libopenblas.WCDJNK7YVMPZQ2ME2ZZHJJRJ3JIKNDB7.gfortran-win_amd64.dll\n",
      "C:\\Users\\cdipt\\anaconda3\\lib\\site-packages\\numpy\\.libs\\libopenblas64__v0.3.21-gcc_10_3_0.dll\n",
      "  warnings.warn(\"loaded more than 1 DLL from .libs:\"\n"
     ]
    }
   ],
   "source": [
    "import library as lib\n",
    "import numpy as np\n",
    "import matplotlib.pyplot as plt\n",
    "import os\n",
    "import sys\n",
    "import math"
   ]
  },
  {
   "cell_type": "code",
   "execution_count": 3,
   "id": "a6a274f9",
   "metadata": {},
   "outputs": [],
   "source": [
    "def g(x):\n",
    "    return math.exp(-1*x)"
   ]
  },
  {
   "cell_type": "code",
   "execution_count": 55,
   "id": "bc67dcb7",
   "metadata": {},
   "outputs": [],
   "source": [
    "def fixed_point_single_variable(g, guess, eps = 1e-4):\n",
    "    \"\"\"\n",
    "    Function to find root using fixed point method for equation of a single variable\n",
    "\n",
    "    args:\n",
    "    g: The function g(x), such that g(x) = x\n",
    "    guess: The guess values to start working with\n",
    "    eps: The minimum error before the roots are returned\n",
    "    \"\"\"\n",
    "    \n",
    "    del_ = 1e5\n",
    "    while(del_ > eps):\n",
    "        guess_new = g(guess)\n",
    "        del_ = abs(guess - guess_new)\n",
    "        guess = guess_new\n",
    "    return guess\n",
    "\n",
    "def fixed_point_multi_variable(G, X, eps = 1e-4):\n",
    "    \"\"\"\n",
    "    Function to find root using dixed point method for a system of equation\n",
    "    \n",
    "    args:\n",
    "    G: list containing all the functions\n",
    "    X: list containing initial guess values\n",
    "    eps: The minimum error before the roots are returned\n",
    "    \"\"\"\n",
    "    \n",
    "    del_ = 1e5\n",
    "    \n",
    "    while del_ > eps:\n",
    "        X_new = list(G[i](X) for i in range(len(X)))\n",
    "        del_ = sum(list(abs(X_new[i] - X[i]) for i in range(len(X))))/len(X)\n",
    "        X = X_new.copy()\n",
    "    return X"
   ]
  },
  {
   "cell_type": "code",
   "execution_count": 8,
   "id": "657bc80e",
   "metadata": {},
   "outputs": [],
   "source": [
    "def g1(X):\n",
    "    return math.sqrt(10-X[0]*X[1])\n",
    "def g2(X):\n",
    "    return math.sqrt((57-X[0])/(3*X[1]))"
   ]
  },
  {
   "cell_type": "code",
   "execution_count": 9,
   "id": "cdec89b6",
   "metadata": {},
   "outputs": [],
   "source": [
    "X = [1.5,3.5]\n",
    "G = [g1,g2]"
   ]
  },
  {
   "cell_type": "code",
   "execution_count": null,
   "id": "d59b0201",
   "metadata": {},
   "outputs": [],
   "source": []
  },
  {
   "cell_type": "code",
   "execution_count": 2,
   "id": "f1fd0f3a",
   "metadata": {},
   "outputs": [],
   "source": [
    "def newton_raphson_multivariable(F, J, x0, eps = 1e-4):\n",
    "    \"\"\"This function is used to find the root of a given function using Newton-Raphson method.\n",
    "    \n",
    "    Parameters:\n",
    "    - F: The list containing all the functions of the system \n",
    "    - J: The Jacobian matrix of f of type library.matrix.\n",
    "    - x0: The list of initial guess.\n",
    "    - eps: The tolerance.\n",
    "    \n",
    "    \"\"\"\n",
    "    x = x0.copy()\n",
    "    iter = 0\n",
    "    while True:\n",
    "        \n",
    "        J_val = lib.matrix.matrix_init((2,2), scheme=\"zero\")\n",
    "        for row in range(J.num_rows):\n",
    "            for col in range(J.num_cols):\n",
    "                J_val.matrix[row][col] = J.matrix[row][col](x)\n",
    "        \n",
    "        F_val = lib.matrix.matrix(list([F[i](x)] for i in range(len(F))))\n",
    "        J_val_inv = lib.matrix.matrix(np.linalg.inv(np.array(J_val.matrix)).tolist())\n",
    "        x_p = lib.matrix.matmul(J_val_inv,F_val).get_column(0)\n",
    "        x = list(x[i]-x_p[i] for i in range(len(x)))\n",
    "        print(x)\n",
    "        iter += 1\n",
    "        if sum(list(abs(F[i](x)) for i in range(len(x)))) < eps:\n",
    "            break\n",
    "    return x, iter\n",
    "\n",
    "def jacobian(f, x, h=1e-5):\n",
    "    \"\"\"This function is used to find the Jacobian matrix of a system of functions.\n",
    "    \n",
    "    Parameters:\n",
    "    - f: The system of functions.\n",
    "    - x: The point at which the Jacobian matrix is to be evaluated.\n",
    "    - h: The step size.\n",
    "    \n",
    "    Returns:\n",
    "    - J: The Jacobian matrix of f.\n",
    "    \"\"\"\n",
    "    n = len(f(x))\n",
    "    m = len(x)\n",
    "    J = np.zeros((n, m))\n",
    "    for i in range(n):\n",
    "        for j in range(m):\n",
    "            x1 = x.copy()\n",
    "            x2 = x.copy()\n",
    "            x1[j] += h\n",
    "            x2[j] -= h\n",
    "            J[i, j] = (f(x1)[i] - f(x2)[i]) / (2 * h)\n",
    "    return J\n",
    "\n",
    "# Example usage:\n",
    "# f = lambda x: np.array([x[0]**2 + x[1]**2 - 1, x[0] - x[1]])\n",
    "# J = lambda x: np.array([[2*x[0], 2*x[1]], [1, -1]])\n",
    "# x0 = np.array([0.5, 0.5])\n",
    "# tol = 1e-5\n",
    "# root, iter = newton_raphson_multivariable(f, J, x0, tol)\n",
    "# solution should be [0.70710678, 0.70710678]\n",
    "# print(root, iter)"
   ]
  },
  {
   "cell_type": "code",
   "execution_count": 3,
   "id": "6bf8262a",
   "metadata": {},
   "outputs": [],
   "source": [
    "def g1(X):\n",
    "    return X[0]**2 + X[1]**2 - 1\n",
    "def g2(X):\n",
    "    return X[0] - X[1]\n",
    "def gp11(X):\n",
    "    return 2*X[0]\n",
    "def gp12(X):\n",
    "    return 2*X[1]\n",
    "def gp21(X):\n",
    "    return 1\n",
    "def gp22(X):\n",
    "    return -1\n",
    "\n",
    "F = [g1,g2]\n",
    "J = lib.matrix.matrix([[gp11,gp12],[gp21,gp22]])\n",
    "x0 = [0.5, 0.5]"
   ]
  },
  {
   "cell_type": "code",
   "execution_count": 4,
   "id": "0075d509",
   "metadata": {},
   "outputs": [
    {
     "name": "stdout",
     "output_type": "stream",
     "text": [
      "[0.75, 0.75]\n",
      "[0.7083333333333334, 0.7083333333333334]\n",
      "[0.7071078431372549, 0.7071078431372549]\n"
     ]
    }
   ],
   "source": [
    "root, iter = newton_raphson_multivariable(F, J, x0)"
   ]
  },
  {
   "cell_type": "code",
   "execution_count": 73,
   "id": "71594233",
   "metadata": {},
   "outputs": [
    {
     "data": {
      "text/plain": [
       "[0.0, 0.0]"
      ]
     },
     "execution_count": 73,
     "metadata": {},
     "output_type": "execute_result"
    }
   ],
   "source": [
    "root"
   ]
  },
  {
   "cell_type": "code",
   "execution_count": 79,
   "id": "988f4a58",
   "metadata": {},
   "outputs": [
    {
     "data": {
      "text/plain": [
       "0.0"
      ]
     },
     "execution_count": 79,
     "metadata": {},
     "output_type": "execute_result"
    }
   ],
   "source": [
    "F[0](root)"
   ]
  },
  {
   "cell_type": "code",
   "execution_count": 46,
   "id": "500f919b",
   "metadata": {},
   "outputs": [],
   "source": [
    "J_val = lib.matrix.matrix_init((2,2), scheme=\"zero\")\n",
    "for row in range(J.num_rows):\n",
    "    for col in range(J.num_cols):\n",
    "        J_val.matrix[row][col] = J.matrix[row][col](x0)\n",
    "F_val = lib.matrix.matrix(list([F[i](x0)] for i in range(len(F))))\n"
   ]
  },
  {
   "cell_type": "code",
   "execution_count": 77,
   "id": "4c94cfb8",
   "metadata": {},
   "outputs": [
    {
     "data": {
      "text/plain": [
       "0.0"
      ]
     },
     "execution_count": 77,
     "metadata": {},
     "output_type": "execute_result"
    }
   ],
   "source": [
    "sum(list(abs(F[i](root)) for i in range(len(root))))"
   ]
  },
  {
   "cell_type": "code",
   "execution_count": 49,
   "id": "d22cd45e",
   "metadata": {},
   "outputs": [
    {
     "data": {
      "text/plain": [
       "array([[ 1.,  1.],\n",
       "       [ 1., -1.]])"
      ]
     },
     "execution_count": 49,
     "metadata": {},
     "output_type": "execute_result"
    }
   ],
   "source": [
    "np.array(J_val.matrix)"
   ]
  },
  {
   "cell_type": "code",
   "execution_count": 57,
   "id": "3a334297",
   "metadata": {},
   "outputs": [],
   "source": [
    "J_val_inv = lib.matrix.matrix(np.linalg.inv(np.array(J_val.matrix)).tolist())"
   ]
  },
  {
   "cell_type": "code",
   "execution_count": 61,
   "id": "9d705e20",
   "metadata": {},
   "outputs": [
    {
     "name": "stdout",
     "output_type": "stream",
     "text": [
      " 0.5\t 0.5\t\n",
      " 0.5\t-0.5\t\n",
      "\n"
     ]
    }
   ],
   "source": [
    "print(J_val_inv)"
   ]
  },
  {
   "cell_type": "code",
   "execution_count": 56,
   "id": "6fe27712",
   "metadata": {},
   "outputs": [
    {
     "data": {
      "text/plain": [
       "[[0.5, 0.5], [0.5, -0.5]]"
      ]
     },
     "execution_count": 56,
     "metadata": {},
     "output_type": "execute_result"
    }
   ],
   "source": [
    "np.linalg.inv(np.array(J_val.matrix)).tolist()"
   ]
  },
  {
   "cell_type": "code",
   "execution_count": 59,
   "id": "c1e8614a",
   "metadata": {},
   "outputs": [
    {
     "data": {
      "text/plain": [
       "[[0.5, 0.5], [0.5, -0.5]]"
      ]
     },
     "execution_count": 59,
     "metadata": {},
     "output_type": "execute_result"
    }
   ],
   "source": [
    "np.linalg.inv(np.array(J_val.matrix)).tolist()"
   ]
  },
  {
   "cell_type": "code",
   "execution_count": 62,
   "id": "250e2825",
   "metadata": {},
   "outputs": [],
   "source": [
    "X_p = lib.matrix.matmul(J_val_inv,F_val)"
   ]
  },
  {
   "cell_type": "code",
   "execution_count": 63,
   "id": "26c971ab",
   "metadata": {},
   "outputs": [
    {
     "name": "stdout",
     "output_type": "stream",
     "text": [
      " 0.25\t\n",
      " 0.25\t\n",
      "\n"
     ]
    }
   ],
   "source": [
    "print(X_p)"
   ]
  },
  {
   "cell_type": "code",
   "execution_count": 65,
   "id": "bdb3d060",
   "metadata": {},
   "outputs": [
    {
     "data": {
      "text/plain": [
       "[0.25, 0.25]"
      ]
     },
     "execution_count": 65,
     "metadata": {},
     "output_type": "execute_result"
    }
   ],
   "source": [
    "X_p.get_column(0)"
   ]
  },
  {
   "cell_type": "code",
   "execution_count": null,
   "id": "83dd47e6",
   "metadata": {},
   "outputs": [],
   "source": []
  }
 ],
 "metadata": {
  "kernelspec": {
   "display_name": "Python 3 (ipykernel)",
   "language": "python",
   "name": "python3"
  },
  "language_info": {
   "codemirror_mode": {
    "name": "ipython",
    "version": 3
   },
   "file_extension": ".py",
   "mimetype": "text/x-python",
   "name": "python",
   "nbconvert_exporter": "python",
   "pygments_lexer": "ipython3",
   "version": "3.8.8"
  }
 },
 "nbformat": 4,
 "nbformat_minor": 5
}
