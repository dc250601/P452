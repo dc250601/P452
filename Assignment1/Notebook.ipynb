{
 "cells": [
  {
   "cell_type": "code",
   "execution_count": 261,
   "id": "ad68196d",
   "metadata": {},
   "outputs": [],
   "source": [
    "import sys\n",
    "sys.path.append(\"../\")\n",
    "import library\n",
    "import math\n",
    "import matplotlib.pyplot as plt\n",
    "from tqdm.auto import tqdm"
   ]
  },
  {
   "cell_type": "markdown",
   "id": "600f8db7",
   "metadata": {},
   "source": [
    "# Question 1"
   ]
  },
  {
   "cell_type": "markdown",
   "id": "784192f8",
   "metadata": {},
   "source": [
    "![Question1](./assignment1_assets/Q1.png) "
   ]
  },
  {
   "cell_type": "markdown",
   "id": "5455113d",
   "metadata": {},
   "source": [
    "### We are given $e^{-x} = x$, considering g(x) = e^{-x} and g(x) = x"
   ]
  },
  {
   "cell_type": "code",
   "execution_count": 5,
   "id": "f85a49e3",
   "metadata": {},
   "outputs": [],
   "source": [
    "def g(x):\n",
    "    return math.exp(-1*x)"
   ]
  },
  {
   "cell_type": "code",
   "execution_count": 75,
   "id": "3031f129",
   "metadata": {},
   "outputs": [],
   "source": [
    "def fixed_point_single_variable(g, guess, eps = 1e-4):\n",
    "    \"\"\"\n",
    "    Function to find root using fixed point method for equation of a single variable\n",
    "\n",
    "    args:\n",
    "    g: The function g(x), such that g(x) = x\n",
    "    guess: The guess values to start working with\n",
    "    eps: The minimum error before the roots are returned\n",
    "    \"\"\"\n",
    "    \n",
    "    del_ = 1e5\n",
    "    while(del_ > eps):\n",
    "        guess_new = g(guess)\n",
    "        del_ = abs(guess - guess_new)\n",
    "        guess = guess_new\n",
    "    return guess"
   ]
  },
  {
   "cell_type": "code",
   "execution_count": 79,
   "id": "911417cd",
   "metadata": {},
   "outputs": [
    {
     "name": "stdout",
     "output_type": "stream",
     "text": [
      "The root found from the fixed point method is 0.567119358625214\n"
     ]
    }
   ],
   "source": [
    "root = fixed_point_single_variable(g = g,\n",
    "                                   guess = 5,\n",
    "                                   eps= 1e-4 )\n",
    "print(f\"The root found from the fixed point method is {root}\")"
   ]
  },
  {
   "cell_type": "markdown",
   "id": "4cca8693",
   "metadata": {},
   "source": [
    "# Question 2"
   ]
  },
  {
   "cell_type": "markdown",
   "id": "741b7953",
   "metadata": {},
   "source": [
    "![Question2](./assignment1_assets/Q2.png) "
   ]
  },
  {
   "cell_type": "markdown",
   "id": "791666ce",
   "metadata": {},
   "source": [
    "### Changing the limits first to make the computation easier,\n",
    "$$\n",
    "\\int_0^1 \\sqrt{1+x^4}\\,dx = \\frac{1}{2}*\\int_{-1}^1 \\sqrt{1+x^4}\\,dx\n",
    "$$"
   ]
  },
  {
   "cell_type": "code",
   "execution_count": 81,
   "id": "8261b10e",
   "metadata": {},
   "outputs": [],
   "source": [
    "def func(x):\n",
    "    return math.sqrt(1+x**4)"
   ]
  },
  {
   "cell_type": "code",
   "execution_count": 97,
   "id": "3456fcce",
   "metadata": {},
   "outputs": [
    {
     "name": "stdout",
     "output_type": "stream",
     "text": [
      "The solution for the Integral is 1.089429413109075\n"
     ]
    }
   ],
   "source": [
    "#Since the question asks us to calculate the solution accurate upto 6 places in decimal\n",
    "#and given that the error varies inversely to the 4th power of N, we choose N to be 50 to get\n",
    "#sufficient precision\n",
    "\n",
    "intergral_soln_simpson = 0.5*library.integrate(func = func, N = 50, a=-1, b=1, mode = \"simpson\")\n",
    "print(f\"The solution for the Integral is {intergral_soln_simpson}\")"
   ]
  },
  {
   "cell_type": "markdown",
   "id": "011481a9",
   "metadata": {},
   "source": [
    "### Solving with Gaussian Quardrature"
   ]
  },
  {
   "cell_type": "code",
   "execution_count": 302,
   "id": "c4a91812",
   "metadata": {},
   "outputs": [
    {
     "name": "stdout",
     "output_type": "stream",
     "text": [
      "Solution for the Integral 1.0894294132248237\n"
     ]
    }
   ],
   "source": [
    "\n",
    "No_of_points = 50\n",
    "nodes, weights = np.polynomial.legendre.leggauss(No_of_points)\n",
    "a = -1\n",
    "b = 1\n",
    "# transform the nodes and weights to the interval [a, b]\n",
    "x_mapped = 0.5 * (b - a) * nodes + 0.5 * (b + a)\n",
    "\n",
    "#Calculate the integral\n",
    "integral_approx = 0.5*(0.5*(b - a) * np.sum(weights * (1+x_mapped**4)**0.5))\n",
    "print(f\"Solution for the Integral {integral_approx}\")"
   ]
  },
  {
   "cell_type": "markdown",
   "id": "535ab5b9",
   "metadata": {},
   "source": [
    "# Question 3"
   ]
  },
  {
   "cell_type": "markdown",
   "id": "2f505dbc",
   "metadata": {},
   "source": [
    "![Question3](./assignment1_assets/Q3.png) "
   ]
  },
  {
   "cell_type": "code",
   "execution_count": 112,
   "id": "8685a217",
   "metadata": {},
   "outputs": [],
   "source": [
    "def runge_kutta(dydx,init_value, range_, h=0.01):\n",
    "    \"\"\"\n",
    "    runge_kutta: Function to calculate the solution of a ODE by using the Runge Kutta method\n",
    "    args:\n",
    "    init_value: The starting values or x0, y0\n",
    "    range_: The tuple corresponding to (x0,xn)\n",
    "    h: The step size for each iteration\n",
    "    \"\"\"\n",
    "    x = []\n",
    "    y = []\n",
    "\n",
    "    k1 = []\n",
    "    k2 = []\n",
    "    k3 = []\n",
    "    k4 = []\n",
    "\n",
    "    x.append(init_value[0])\n",
    "    y.append(init_value[1])\n",
    "    \n",
    "    no_steps = int((range_[1]-range_[0])/h)\n",
    "    \n",
    "    for i in range(no_steps):\n",
    "        k1.append(h*dydx(y[i],x[i]))\n",
    "\n",
    "        k2.append(h* dydx((y[i]+k1[i]/2),(x[i] + h/2)) )\n",
    "\n",
    "        k3.append(h* dydx((y[i]+k2[i]/2),(x[i] + h/2)) )\n",
    "        \n",
    "        k4.append(h* dydx((y[i]+k3[i]),(x[i] + h)))\n",
    "        \n",
    "        x.append(x[i]+h)\n",
    "        y.append((y[i]+(k1[i]+ 2*k2[i] + 2*k3[i] + k4[i])/6))\n",
    "                \n",
    "    return x,y"
   ]
  },
  {
   "cell_type": "code",
   "execution_count": 113,
   "id": "3000f0d7",
   "metadata": {},
   "outputs": [],
   "source": [
    "def dydx(y,x):\n",
    "    return (5*(x**2) - y)/(math.exp(x+y))"
   ]
  },
  {
   "cell_type": "markdown",
   "id": "17ef7c89",
   "metadata": {},
   "source": [
    "#### Taking the range of x from 0 to 1 for this study"
   ]
  },
  {
   "cell_type": "code",
   "execution_count": 131,
   "id": "a36864c6",
   "metadata": {},
   "outputs": [
    {
     "name": "stdout",
     "output_type": "stream",
     "text": [
      "Interval size|\t\t\ty(0)|\t\t\ty(1)|\n",
      "\t0.5|\t\t\t1|\t1.071926337431937|\n",
      "\t0.2|\t\t\t1|\t1.0715857107318785|\n",
      "\t0.05|\t\t\t1|\t1.0715779650370647|\n",
      "\t0.01|\t\t\t1|\t1.071577937341309|\n"
     ]
    }
   ],
   "source": [
    "interval_size = [0.50,0.20,0.05,0.01]\n",
    "X = []\n",
    "Y = []\n",
    "print(\"Interval size|\\t\\t\\ty(0)|\\t\\t\\ty(1)|\")\n",
    "for h_ in interval_size:\n",
    "    x,y = runge_kutta(dydx=dydx,\n",
    "                      init_value=(0,1),\n",
    "                      range_=(0,1),\n",
    "                      h = h_\n",
    "                     )\n",
    "    print(f\"\\t{h_}|\\t\\t\\t{y[0]}|\\t{y[-1]}|\")\n",
    "    X.append(x)\n",
    "    Y.append(y)"
   ]
  },
  {
   "cell_type": "code",
   "execution_count": 136,
   "id": "1a98fe75",
   "metadata": {},
   "outputs": [
    {
     "data": {
      "image/png": "[encoded data removed]",
      "text/plain": [
       "<Figure size 640x480 with 1 Axes>"
      ]
     },
     "metadata": {},
     "output_type": "display_data"
    }
   ],
   "source": [
    "#Plotting the results for better clarity\n",
    "plt.plot(X[0],Y[0], label = f\"Step size = {interval_size[0]}\")\n",
    "plt.plot(X[1],Y[1], label = f\"Step size = {interval_size[1]}\")\n",
    "plt.plot(X[2],Y[2], label = f\"Step size = {interval_size[2]}\")\n",
    "plt.plot(X[3],Y[3], label = f\"Step size = {interval_size[3]}\")\n",
    "plt.legend()\n",
    "plt.show()"
   ]
  },
  {
   "cell_type": "markdown",
   "id": "ea92dee6",
   "metadata": {},
   "source": [
    "#### Taking the range of x from 0 to 10 as another example"
   ]
  },
  {
   "cell_type": "code",
   "execution_count": 139,
   "id": "992e10f4",
   "metadata": {},
   "outputs": [
    {
     "name": "stdout",
     "output_type": "stream",
     "text": [
      "Interval size|\t\t\ty(0)|\t\t\ty(10)|\n",
      "\t0.5|\t\t\t1|\t2.44455734472942|\n",
      "\t0.2|\t\t\t1|\t2.4444543366426372|\n",
      "\t0.05|\t\t\t1|\t2.4444520517429957|\n",
      "\t0.01|\t\t\t1|\t2.4444520437002137|\n"
     ]
    }
   ],
   "source": [
    "interval_size = [0.50,0.20,0.05,0.01]\n",
    "X = []\n",
    "Y = []\n",
    "print(\"Interval size|\\t\\t\\ty(0)|\\t\\t\\ty(10)|\")\n",
    "for h_ in interval_size:\n",
    "    x,y = runge_kutta(dydx=dydx,\n",
    "                      init_value=(0,1),\n",
    "                      range_=(0,10),\n",
    "                      h = h_\n",
    "                     )\n",
    "    print(f\"\\t{h_}|\\t\\t\\t{y[0]}|\\t{y[-1]}|\")\n",
    "    X.append(x)\n",
    "    Y.append(y)"
   ]
  },
  {
   "cell_type": "code",
   "execution_count": 143,
   "id": "d77e0aaf",
   "metadata": {},
   "outputs": [
    {
     "data": {
      "image/png": "[encoded data removed]",
      "text/plain": [
       "<Figure size 640x480 with 1 Axes>"
      ]
     },
     "metadata": {},
     "output_type": "display_data"
    }
   ],
   "source": [
    "#Plotting the results for better clarity\n",
    "plt.plot(X[0],Y[0], label = f\"Step size = {interval_size[0]}\")\n",
    "plt.plot(X[1],Y[1], label = f\"Step size = {interval_size[1]}\")\n",
    "plt.plot(X[2],Y[2], label = f\"Step size = {interval_size[2]}\")\n",
    "plt.plot(X[3],Y[3], label = f\"Step size = {interval_size[3]}\")\n",
    "plt.xscale(\"log\")\n",
    "plt.legend()\n",
    "plt.grid(True)\n",
    "plt.show()\n"
   ]
  },
  {
   "cell_type": "markdown",
   "id": "39543c93",
   "metadata": {},
   "source": [
    "# Question 4"
   ]
  },
  {
   "cell_type": "markdown",
   "id": "9ab1ffd4",
   "metadata": {},
   "source": [
    "![Question4](./assignment1_assets/Q4.png) "
   ]
  },
  {
   "cell_type": "markdown",
   "id": "f681af70",
   "metadata": {},
   "source": [
    "# Considering the heat equation to be\n",
    "$$\n",
    "u_t = z*u_{xx}\n",
    "$$\n",
    "The update equation is as follows\n",
    "$V_j$ = $(2*I*z + \\alpha*B)^{-1}$$(2*I*z -\\alpha*B)$"
   ]
  },
  {
   "cell_type": "code",
   "execution_count": 237,
   "id": "9870978f",
   "metadata": {},
   "outputs": [],
   "source": [
    "import numpy as np # Using numpy for inversion and Tridiagonal matrix\n",
    "from scipy.sparse import diags\n",
    "import pandas as pd\n",
    "z = 4\n",
    "x_discreetisation = 1\n",
    "t_discreetisation = 2\n",
    "x_range = (0,8)\n",
    "t_range = (0,50)\n",
    "X = np.arange(x_range[0],x_range[-1],x_discreetisation)[:,None]\n",
    "V_0 = 4*X - (X**2)/2\n",
    "n = V_0.shape[0]\n",
    "B = diags([-1*np.ones(n-1),2*np.ones(n),-1*np.ones(n-1)],[-1,0,1]).toarray()\n",
    "alpha = t_discreetisation/(x_discreetisation)**2"
   ]
  },
  {
   "cell_type": "code",
   "execution_count": 238,
   "id": "2b22d40a",
   "metadata": {},
   "outputs": [],
   "source": [
    "V = []\n",
    "V.append(V_0)\n",
    "for t in range(int((t_range[1]-t_range[0])/t_discreetisation)-1):\n",
    "    V.append(np.matmul(np.matmul(np.linalg.inv(2*z*np.eye(n) + alpha*B),(2*z*np.eye(n) - alpha*B)),V[t]))"
   ]
  },
  {
   "cell_type": "code",
   "execution_count": 239,
   "id": "9747d6be",
   "metadata": {},
   "outputs": [],
   "source": [
    "V_grid = np.concatenate(V,axis = -1)"
   ]
  },
  {
   "cell_type": "code",
   "execution_count": 250,
   "id": "258b7228",
   "metadata": {},
   "outputs": [
    {
     "data": {
      "text/plain": [
       "<matplotlib.colorbar.Colorbar at 0x179aa60b3a0>"
      ]
     },
     "execution_count": 250,
     "metadata": {},
     "output_type": "execute_result"
    },
    {
     "data": {
      "image/png": "[encoded data removed]",
      "text/plain": [
       "<Figure size 1200x600 with 2 Axes>"
      ]
     },
     "metadata": {},
     "output_type": "display_data"
    }
   ],
   "source": [
    "plt.figure(figsize=(12,6))\n",
    "plt.imshow(V_grid.T)\n",
    "plt.xlabel(\"X\")\n",
    "plt.ylabel(\"t\")\n",
    "plt.colorbar()"
   ]
  },
  {
   "cell_type": "code",
   "execution_count": 246,
   "id": "84027c1f",
   "metadata": {},
   "outputs": [
    {
     "data": {
      "text/html": [
       "<div>\n",
       "<style scoped>\n",
       "    .dataframe tbody tr th:only-of-type {\n",
       "        vertical-align: middle;\n",
       "    }\n",
       "\n",
       "    .dataframe tbody tr th {\n",
       "        vertical-align: top;\n",
       "    }\n",
       "\n",
       "    .dataframe thead th {\n",
       "        text-align: right;\n",
       "    }\n",
       "</style>\n",
       "<table border=\"1\" class=\"dataframe\">\n",
       "  <thead>\n",
       "    <tr style=\"text-align: right;\">\n",
       "      <th></th>\n",
       "      <th>0</th>\n",
       "      <th>1</th>\n",
       "      <th>2</th>\n",
       "      <th>3</th>\n",
       "      <th>4</th>\n",
       "      <th>5</th>\n",
       "      <th>6</th>\n",
       "      <th>7</th>\n",
       "    </tr>\n",
       "  </thead>\n",
       "  <tbody>\n",
       "    <tr>\n",
       "      <th>0</th>\n",
       "      <td>0.000000</td>\n",
       "      <td>3.500000</td>\n",
       "      <td>6.000000</td>\n",
       "      <td>7.500000</td>\n",
       "      <td>8.000000</td>\n",
       "      <td>7.500000</td>\n",
       "      <td>6.000000</td>\n",
       "      <td>3.500000</td>\n",
       "    </tr>\n",
       "    <tr>\n",
       "      <th>1</th>\n",
       "      <td>1.129943</td>\n",
       "      <td>3.279656</td>\n",
       "      <td>5.547994</td>\n",
       "      <td>7.008307</td>\n",
       "      <td>7.501846</td>\n",
       "      <td>7.002768</td>\n",
       "      <td>5.514760</td>\n",
       "      <td>3.085793</td>\n",
       "    </tr>\n",
       "    <tr>\n",
       "      <th>2</th>\n",
       "      <td>1.476664</td>\n",
       "      <td>3.320444</td>\n",
       "      <td>5.208751</td>\n",
       "      <td>6.548109</td>\n",
       "      <td>7.013454</td>\n",
       "      <td>6.517846</td>\n",
       "      <td>5.071483</td>\n",
       "      <td>2.792972</td>\n",
       "    </tr>\n",
       "    <tr>\n",
       "      <th>3</th>\n",
       "      <td>1.597858</td>\n",
       "      <td>3.313374</td>\n",
       "      <td>4.956084</td>\n",
       "      <td>6.137076</td>\n",
       "      <td>6.547948</td>\n",
       "      <td>6.057747</td>\n",
       "      <td>4.677903</td>\n",
       "      <td>2.555888</td>\n",
       "    </tr>\n",
       "    <tr>\n",
       "      <th>4</th>\n",
       "      <td>1.627626</td>\n",
       "      <td>3.256668</td>\n",
       "      <td>4.731692</td>\n",
       "      <td>5.770866</td>\n",
       "      <td>6.115321</td>\n",
       "      <td>5.630341</td>\n",
       "      <td>4.325382</td>\n",
       "      <td>2.352510</td>\n",
       "    </tr>\n",
       "    <tr>\n",
       "      <th>5</th>\n",
       "      <td>1.613143</td>\n",
       "      <td>3.166936</td>\n",
       "      <td>4.515818</td>\n",
       "      <td>5.437057</td>\n",
       "      <td>5.717777</td>\n",
       "      <td>5.237759</td>\n",
       "      <td>4.007390</td>\n",
       "      <td>2.172965</td>\n",
       "    </tr>\n",
       "    <tr>\n",
       "      <th>6</th>\n",
       "      <td>1.575013</td>\n",
       "      <td>3.056857</td>\n",
       "      <td>4.303296</td>\n",
       "      <td>5.127292</td>\n",
       "      <td>5.352745</td>\n",
       "      <td>4.878806</td>\n",
       "      <td>3.719405</td>\n",
       "      <td>2.012121</td>\n",
       "    </tr>\n",
       "    <tr>\n",
       "      <th>7</th>\n",
       "      <td>1.523630</td>\n",
       "      <td>2.934899</td>\n",
       "      <td>4.093742</td>\n",
       "      <td>4.836814</td>\n",
       "      <td>5.016516</td>\n",
       "      <td>4.550695</td>\n",
       "      <td>3.457893</td>\n",
       "      <td>1.866923</td>\n",
       "    </tr>\n",
       "    <tr>\n",
       "      <th>8</th>\n",
       "      <td>1.464808</td>\n",
       "      <td>2.806686</td>\n",
       "      <td>3.888137</td>\n",
       "      <td>4.562940</td>\n",
       "      <td>4.705614</td>\n",
       "      <td>4.250204</td>\n",
       "      <td>3.219811</td>\n",
       "      <td>1.735258</td>\n",
       "    </tr>\n",
       "    <tr>\n",
       "      <th>9</th>\n",
       "      <td>1.402051</td>\n",
       "      <td>2.676005</td>\n",
       "      <td>3.687662</td>\n",
       "      <td>4.304068</td>\n",
       "      <td>4.417112</td>\n",
       "      <td>3.974235</td>\n",
       "      <td>3.002464</td>\n",
       "      <td>1.615465</td>\n",
       "    </tr>\n",
       "    <tr>\n",
       "      <th>10</th>\n",
       "      <td>1.337591</td>\n",
       "      <td>2.545441</td>\n",
       "      <td>3.493330</td>\n",
       "      <td>4.059142</td>\n",
       "      <td>4.148615</td>\n",
       "      <td>3.720021</td>\n",
       "      <td>2.803465</td>\n",
       "      <td>1.506143</td>\n",
       "    </tr>\n",
       "    <tr>\n",
       "      <th>11</th>\n",
       "      <td>1.272898</td>\n",
       "      <td>2.416767</td>\n",
       "      <td>3.305898</td>\n",
       "      <td>3.827381</td>\n",
       "      <td>3.898157</td>\n",
       "      <td>3.485167</td>\n",
       "      <td>2.620724</td>\n",
       "      <td>1.406079</td>\n",
       "    </tr>\n",
       "    <tr>\n",
       "      <th>12</th>\n",
       "      <td>1.208960</td>\n",
       "      <td>2.291195</td>\n",
       "      <td>3.125879</td>\n",
       "      <td>3.608133</td>\n",
       "      <td>3.664103</td>\n",
       "      <td>3.267623</td>\n",
       "      <td>2.452422</td>\n",
       "      <td>1.314217</td>\n",
       "    </tr>\n",
       "    <tr>\n",
       "      <th>13</th>\n",
       "      <td>1.146442</td>\n",
       "      <td>2.169541</td>\n",
       "      <td>2.953574</td>\n",
       "      <td>3.400815</td>\n",
       "      <td>3.445070</td>\n",
       "      <td>3.065639</td>\n",
       "      <td>2.296995</td>\n",
       "      <td>1.229642</td>\n",
       "    </tr>\n",
       "    <tr>\n",
       "      <th>14</th>\n",
       "      <td>1.085793</td>\n",
       "      <td>2.052335</td>\n",
       "      <td>2.789119</td>\n",
       "      <td>3.204876</td>\n",
       "      <td>3.239864</td>\n",
       "      <td>2.877716</td>\n",
       "      <td>2.153091</td>\n",
       "      <td>1.151562</td>\n",
       "    </tr>\n",
       "    <tr>\n",
       "      <th>15</th>\n",
       "      <td>1.027304</td>\n",
       "      <td>1.939901</td>\n",
       "      <td>2.632522</td>\n",
       "      <td>3.019784</td>\n",
       "      <td>3.047445</td>\n",
       "      <td>2.702565</td>\n",
       "      <td>2.019553</td>\n",
       "      <td>1.079295</td>\n",
       "    </tr>\n",
       "    <tr>\n",
       "      <th>16</th>\n",
       "      <td>0.971154</td>\n",
       "      <td>1.832413</td>\n",
       "      <td>2.483694</td>\n",
       "      <td>2.845019</td>\n",
       "      <td>2.866887</td>\n",
       "      <td>2.539066</td>\n",
       "      <td>1.895381</td>\n",
       "      <td>1.012254</td>\n",
       "    </tr>\n",
       "    <tr>\n",
       "      <th>17</th>\n",
       "      <td>0.917442</td>\n",
       "      <td>1.729931</td>\n",
       "      <td>2.342471</td>\n",
       "      <td>2.680076</td>\n",
       "      <td>2.697364</td>\n",
       "      <td>2.386246</td>\n",
       "      <td>1.779710</td>\n",
       "      <td>0.949933</td>\n",
       "    </tr>\n",
       "    <tr>\n",
       "      <th>18</th>\n",
       "      <td>0.866209</td>\n",
       "      <td>1.632437</td>\n",
       "      <td>2.208641</td>\n",
       "      <td>2.524459</td>\n",
       "      <td>2.538126</td>\n",
       "      <td>2.243247</td>\n",
       "      <td>1.671790</td>\n",
       "      <td>0.891894</td>\n",
       "    </tr>\n",
       "    <tr>\n",
       "      <th>19</th>\n",
       "      <td>0.817452</td>\n",
       "      <td>1.539855</td>\n",
       "      <td>2.081954</td>\n",
       "      <td>2.377688</td>\n",
       "      <td>2.388493</td>\n",
       "      <td>2.109311</td>\n",
       "      <td>1.570965</td>\n",
       "      <td>0.837757</td>\n",
       "    </tr>\n",
       "    <tr>\n",
       "      <th>20</th>\n",
       "      <td>0.771137</td>\n",
       "      <td>1.452065</td>\n",
       "      <td>1.962136</td>\n",
       "      <td>2.239300</td>\n",
       "      <td>2.247841</td>\n",
       "      <td>1.983763</td>\n",
       "      <td>1.476659</td>\n",
       "      <td>0.787190</td>\n",
       "    </tr>\n",
       "    <tr>\n",
       "      <th>21</th>\n",
       "      <td>0.727210</td>\n",
       "      <td>1.368919</td>\n",
       "      <td>1.848900</td>\n",
       "      <td>2.108846</td>\n",
       "      <td>2.115598</td>\n",
       "      <td>1.865998</td>\n",
       "      <td>1.388361</td>\n",
       "      <td>0.739900</td>\n",
       "    </tr>\n",
       "    <tr>\n",
       "      <th>22</th>\n",
       "      <td>0.685598</td>\n",
       "      <td>1.290249</td>\n",
       "      <td>1.741952</td>\n",
       "      <td>1.985896</td>\n",
       "      <td>1.991234</td>\n",
       "      <td>1.755468</td>\n",
       "      <td>1.305620</td>\n",
       "      <td>0.695630</td>\n",
       "    </tr>\n",
       "    <tr>\n",
       "      <th>23</th>\n",
       "      <td>0.646220</td>\n",
       "      <td>1.215877</td>\n",
       "      <td>1.640994</td>\n",
       "      <td>1.870038</td>\n",
       "      <td>1.874258</td>\n",
       "      <td>1.651679</td>\n",
       "      <td>1.228028</td>\n",
       "      <td>0.654151</td>\n",
       "    </tr>\n",
       "    <tr>\n",
       "      <th>24</th>\n",
       "      <td>0.608989</td>\n",
       "      <td>1.145615</td>\n",
       "      <td>1.545733</td>\n",
       "      <td>1.760880</td>\n",
       "      <td>1.764216</td>\n",
       "      <td>1.554180</td>\n",
       "      <td>1.155221</td>\n",
       "      <td>0.615259</td>\n",
       "    </tr>\n",
       "  </tbody>\n",
       "</table>\n",
       "</div>"
      ],
      "text/plain": [
       "           0         1         2         3         4         5         6  \\\n",
       "0   0.000000  3.500000  6.000000  7.500000  8.000000  7.500000  6.000000   \n",
       "1   1.129943  3.279656  5.547994  7.008307  7.501846  7.002768  5.514760   \n",
       "2   1.476664  3.320444  5.208751  6.548109  7.013454  6.517846  5.071483   \n",
       "3   1.597858  3.313374  4.956084  6.137076  6.547948  6.057747  4.677903   \n",
       "4   1.627626  3.256668  4.731692  5.770866  6.115321  5.630341  4.325382   \n",
       "5   1.613143  3.166936  4.515818  5.437057  5.717777  5.237759  4.007390   \n",
       "6   1.575013  3.056857  4.303296  5.127292  5.352745  4.878806  3.719405   \n",
       "7   1.523630  2.934899  4.093742  4.836814  5.016516  4.550695  3.457893   \n",
       "8   1.464808  2.806686  3.888137  4.562940  4.705614  4.250204  3.219811   \n",
       "9   1.402051  2.676005  3.687662  4.304068  4.417112  3.974235  3.002464   \n",
       "10  1.337591  2.545441  3.493330  4.059142  4.148615  3.720021  2.803465   \n",
       "11  1.272898  2.416767  3.305898  3.827381  3.898157  3.485167  2.620724   \n",
       "12  1.208960  2.291195  3.125879  3.608133  3.664103  3.267623  2.452422   \n",
       "13  1.146442  2.169541  2.953574  3.400815  3.445070  3.065639  2.296995   \n",
       "14  1.085793  2.052335  2.789119  3.204876  3.239864  2.877716  2.153091   \n",
       "15  1.027304  1.939901  2.632522  3.019784  3.047445  2.702565  2.019553   \n",
       "16  0.971154  1.832413  2.483694  2.845019  2.866887  2.539066  1.895381   \n",
       "17  0.917442  1.729931  2.342471  2.680076  2.697364  2.386246  1.779710   \n",
       "18  0.866209  1.632437  2.208641  2.524459  2.538126  2.243247  1.671790   \n",
       "19  0.817452  1.539855  2.081954  2.377688  2.388493  2.109311  1.570965   \n",
       "20  0.771137  1.452065  1.962136  2.239300  2.247841  1.983763  1.476659   \n",
       "21  0.727210  1.368919  1.848900  2.108846  2.115598  1.865998  1.388361   \n",
       "22  0.685598  1.290249  1.741952  1.985896  1.991234  1.755468  1.305620   \n",
       "23  0.646220  1.215877  1.640994  1.870038  1.874258  1.651679  1.228028   \n",
       "24  0.608989  1.145615  1.545733  1.760880  1.764216  1.554180  1.155221   \n",
       "\n",
       "           7  \n",
       "0   3.500000  \n",
       "1   3.085793  \n",
       "2   2.792972  \n",
       "3   2.555888  \n",
       "4   2.352510  \n",
       "5   2.172965  \n",
       "6   2.012121  \n",
       "7   1.866923  \n",
       "8   1.735258  \n",
       "9   1.615465  \n",
       "10  1.506143  \n",
       "11  1.406079  \n",
       "12  1.314217  \n",
       "13  1.229642  \n",
       "14  1.151562  \n",
       "15  1.079295  \n",
       "16  1.012254  \n",
       "17  0.949933  \n",
       "18  0.891894  \n",
       "19  0.837757  \n",
       "20  0.787190  \n",
       "21  0.739900  \n",
       "22  0.695630  \n",
       "23  0.654151  \n",
       "24  0.615259  "
      ]
     },
     "execution_count": 246,
     "metadata": {},
     "output_type": "execute_result"
    }
   ],
   "source": [
    "# Time is along the rows the X is along the columns\n",
    "pd.DataFrame(V_grid.T)"
   ]
  },
  {
   "cell_type": "code",
   "execution_count": 247,
   "id": "7be3ccdd",
   "metadata": {},
   "outputs": [
    {
     "data": {
      "text/plain": [
       "2.0"
      ]
     },
     "execution_count": 247,
     "metadata": {},
     "output_type": "execute_result"
    }
   ],
   "source": [
    "alpha"
   ]
  },
  {
   "cell_type": "code",
   "execution_count": 248,
   "id": "fc1fa044",
   "metadata": {},
   "outputs": [],
   "source": [
    "# Native Python Matrix inversion is used. The value of alpha is 2.0 it is not much important\n",
    "# in this case given the stability of CN."
   ]
  },
  {
   "cell_type": "markdown",
   "id": "3b99ddbc",
   "metadata": {},
   "source": [
    "# Question 5"
   ]
  },
  {
   "cell_type": "markdown",
   "id": "01114c58",
   "metadata": {},
   "source": [
    "![Question5](./assignment1_assets/Q5.png) "
   ]
  },
  {
   "cell_type": "code",
   "execution_count": 284,
   "id": "492bcd3b",
   "metadata": {},
   "outputs": [],
   "source": [
    "u = np.zeros((6,6)) # Initializing the Matrix 6X6\n",
    "x = np.linspace(0, 2, 6) # X axis\n",
    "y = np.linspace(0, 1, 6) # Y axis\n",
    "iterations = 10000\n",
    "#Applying the bounday conditions\n",
    "u[:, 0] = x\n",
    "u[:, -1] = x*np.e\n",
    "u[0, :] = 0\n",
    "u[-1, :] = 2*np.exp(y)\n",
    "\n",
    "dy = 0.1\n",
    "dx = 0.1"
   ]
  },
  {
   "cell_type": "code",
   "execution_count": 285,
   "id": "813cc542",
   "metadata": {},
   "outputs": [
    {
     "data": {
      "application/vnd.jupyter.widget-view+json": {
       "model_id": "e5c4f4dc792548059528ae437df94bc6",
       "version_major": 2,
       "version_minor": 0
      },
      "text/plain": [
       "  0%|          | 0/10000 [00:00<?, ?it/s]"
      ]
     },
     "metadata": {},
     "output_type": "display_data"
    }
   ],
   "source": [
    "f = np.zeros((6, 6))\n",
    "for i in range(6):\n",
    "    for j in range(6):\n",
    "        f[i, j] = x[i] * np.exp(y[j])\n",
    "\n",
    "# Jacobi iterative method\n",
    "for _ in tqdm(range(iterations)):\n",
    "    for i in range(1, 6 - 1):\n",
    "        for j in range(1, 6 - 1):\n",
    "            u[i, j] = ((dy**2 * (u[i+1, j] + u[i-1, j]) + dx**2 * (u[i, j+1] + u[i, j-1]) - dx**2 * dy**2 * f[i, j]) / (2 * (dx**2 + dy**2)))"
   ]
  },
  {
   "cell_type": "code",
   "execution_count": 286,
   "id": "8e797a8d",
   "metadata": {},
   "outputs": [
    {
     "data": {
      "text/html": [
       "<div>\n",
       "<style scoped>\n",
       "    .dataframe tbody tr th:only-of-type {\n",
       "        vertical-align: middle;\n",
       "    }\n",
       "\n",
       "    .dataframe tbody tr th {\n",
       "        vertical-align: top;\n",
       "    }\n",
       "\n",
       "    .dataframe thead th {\n",
       "        text-align: right;\n",
       "    }\n",
       "</style>\n",
       "<table border=\"1\" class=\"dataframe\">\n",
       "  <thead>\n",
       "    <tr style=\"text-align: right;\">\n",
       "      <th></th>\n",
       "      <th>0</th>\n",
       "      <th>1</th>\n",
       "      <th>2</th>\n",
       "      <th>3</th>\n",
       "      <th>4</th>\n",
       "      <th>5</th>\n",
       "    </tr>\n",
       "  </thead>\n",
       "  <tbody>\n",
       "    <tr>\n",
       "      <th>0</th>\n",
       "      <td>0.0</td>\n",
       "      <td>0.000000</td>\n",
       "      <td>0.000000</td>\n",
       "      <td>0.000000</td>\n",
       "      <td>0.000000</td>\n",
       "      <td>0.000000</td>\n",
       "    </tr>\n",
       "    <tr>\n",
       "      <th>1</th>\n",
       "      <td>0.4</td>\n",
       "      <td>0.513566</td>\n",
       "      <td>0.636359</td>\n",
       "      <td>0.772252</td>\n",
       "      <td>0.922886</td>\n",
       "      <td>1.087313</td>\n",
       "    </tr>\n",
       "    <tr>\n",
       "      <th>2</th>\n",
       "      <td>0.8</td>\n",
       "      <td>1.022792</td>\n",
       "      <td>1.265584</td>\n",
       "      <td>1.537050</td>\n",
       "      <td>1.840883</td>\n",
       "      <td>2.174625</td>\n",
       "    </tr>\n",
       "    <tr>\n",
       "      <th>3</th>\n",
       "      <td>1.2</td>\n",
       "      <td>1.521789</td>\n",
       "      <td>1.878071</td>\n",
       "      <td>2.284059</td>\n",
       "      <td>2.746775</td>\n",
       "      <td>3.261938</td>\n",
       "    </tr>\n",
       "    <tr>\n",
       "      <th>4</th>\n",
       "      <td>1.6</td>\n",
       "      <td>2.000951</td>\n",
       "      <td>2.458752</td>\n",
       "      <td>2.996205</td>\n",
       "      <td>3.626926</td>\n",
       "      <td>4.349251</td>\n",
       "    </tr>\n",
       "    <tr>\n",
       "      <th>5</th>\n",
       "      <td>2.0</td>\n",
       "      <td>2.442806</td>\n",
       "      <td>2.983649</td>\n",
       "      <td>3.644238</td>\n",
       "      <td>4.451082</td>\n",
       "      <td>5.436564</td>\n",
       "    </tr>\n",
       "  </tbody>\n",
       "</table>\n",
       "</div>"
      ],
      "text/plain": [
       "     0         1         2         3         4         5\n",
       "0  0.0  0.000000  0.000000  0.000000  0.000000  0.000000\n",
       "1  0.4  0.513566  0.636359  0.772252  0.922886  1.087313\n",
       "2  0.8  1.022792  1.265584  1.537050  1.840883  2.174625\n",
       "3  1.2  1.521789  1.878071  2.284059  2.746775  3.261938\n",
       "4  1.6  2.000951  2.458752  2.996205  3.626926  4.349251\n",
       "5  2.0  2.442806  2.983649  3.644238  4.451082  5.436564"
      ]
     },
     "execution_count": 286,
     "metadata": {},
     "output_type": "execute_result"
    }
   ],
   "source": [
    "pd.DataFrame(u)"
   ]
  },
  {
   "cell_type": "code",
   "execution_count": 287,
   "id": "4f71010c",
   "metadata": {},
   "outputs": [
    {
     "data": {
      "image/png": "[encoded data removed]",
      "text/plain": [
       "<Figure size 640x480 with 1 Axes>"
      ]
     },
     "metadata": {},
     "output_type": "display_data"
    }
   ],
   "source": [
    "fig = plt.figure()\n",
    "ax = fig.gca(projection='3d')\n",
    "X = np.arange(1,7)\n",
    "Y = np.arange(1,7)\n",
    "X, Y = np.meshgrid(X, Y)\n",
    "surf = ax.plot_surface(X, Y, u, rstride=1, cstride=1, cmap='hot', linewidth=0, antialiased=False)"
   ]
  },
  {
   "cell_type": "code",
   "execution_count": null,
   "id": "6c7ea13d",
   "metadata": {},
   "outputs": [],
   "source": []
  }
 ],
 "metadata": {
  "kernelspec": {
   "display_name": "Python 3 (ipykernel)",
   "language": "python",
   "name": "python3"
  },
  "language_info": {
   "codemirror_mode": {
    "name": "ipython",
    "version": 3
   },
   "file_extension": ".py",
   "mimetype": "text/x-python",
   "name": "python",
   "nbconvert_exporter": "python",
   "pygments_lexer": "ipython3",
   "version": "3.8.8"
  }
 },
 "nbformat": 4,
 "nbformat_minor": 5
}
